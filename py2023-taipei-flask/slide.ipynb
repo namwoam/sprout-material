{
 "cells": [
  {
   "attachments": {},
   "cell_type": "markdown",
   "metadata": {
    "slideshow": {
     "slide_type": "slide"
    }
   },
   "source": [
    "# Python Flask\n",
    "資訊之芽 梁安哲 2023/05/21"
   ]
  },
  {
   "attachments": {},
   "cell_type": "markdown",
   "metadata": {
    "slideshow": {
     "slide_type": "slide"
    }
   },
   "source": [
    "# Outline\n",
    "- Internet Basics\n",
    "- Flask Introduction\n",
    "- HTML\n",
    "- Flask Cont.\n",
    "- Template Response\n",
    "- Request\n",
    "- Deploy\n",
    "- Additional Information"
   ]
  },
  {
   "attachments": {},
   "cell_type": "markdown",
   "metadata": {
    "slideshow": {
     "slide_type": "slide"
    }
   },
   "source": [
    "# Internet Basics"
   ]
  },
  {
   "attachments": {},
   "cell_type": "markdown",
   "metadata": {
    "slideshow": {
     "slide_type": "subslide"
    }
   },
   "source": [
    "## Browser\n",
    "![](./image/03.jpg)"
   ]
  },
  {
   "attachments": {},
   "cell_type": "markdown",
   "metadata": {
    "slideshow": {
     "slide_type": "subslide"
    }
   },
   "source": [
    "## Visit: `http://www.example.com/`\n",
    "\n",
    "![](./image/04.png)\n"
   ]
  },
  {
   "attachments": {},
   "cell_type": "markdown",
   "metadata": {
    "slideshow": {
     "slide_type": "subslide"
    }
   },
   "source": [
    "### DNS(Domain Name System)\n",
    "\n",
    "![](./image/05.png)"
   ]
  },
  {
   "attachments": {},
   "cell_type": "markdown",
   "metadata": {
    "slideshow": {
     "slide_type": "subslide"
    }
   },
   "source": [
    "### HTTP/HTTPS request\n",
    "\n",
    "![](./image/06.png)"
   ]
  },
  {
   "attachments": {},
   "cell_type": "markdown",
   "metadata": {
    "slideshow": {
     "slide_type": "subslide"
    }
   },
   "source": [
    "### Receive files\n",
    "\n",
    "1. 程式檔案 (Code files): HTML , CSS , Javascript , webassembly\n",
    "2. 多媒體檔案 (Asset): 圖片 , 影片 , 音樂 ... \n",
    "\n",
    "![](./image/07.png)"
   ]
  },
  {
   "attachments": {},
   "cell_type": "markdown",
   "metadata": {
    "slideshow": {
     "slide_type": "subslide"
    }
   },
   "source": [
    "### Rendering\n",
    "\n",
    "![](./image/08.jpg)"
   ]
  },
  {
   "attachments": {},
   "cell_type": "markdown",
   "metadata": {
    "slideshow": {
     "slide_type": "subslide"
    }
   },
   "source": [
    "## Where is Python?\n",
    "\n",
    "![](./image/01.jpeg)"
   ]
  },
  {
   "attachments": {},
   "cell_type": "markdown",
   "metadata": {
    "slideshow": {
     "slide_type": "subslide"
    }
   },
   "source": [
    "### Frontend? Backend?\n",
    "\n",
    "![](./image/02.webp)\n"
   ]
  },
  {
   "attachments": {},
   "cell_type": "markdown",
   "metadata": {
    "slideshow": {
     "slide_type": "subslide"
    }
   },
   "source": [
    "- 前端是瀏覽器上運行的程式碼。由於瀏覽器上只能執行HTML、CSS、Javascript、webassembly，因此前端只以這四種語言構成。\n",
    "\n",
    "- 後端是伺服器上運行的程式碼。基本上可以使用任何程式語言。"
   ]
  },
  {
   "attachments": {},
   "cell_type": "markdown",
   "metadata": {
    "slideshow": {
     "slide_type": "subslide"
    }
   },
   "source": [
    "![](./image/09.png)\n",
    "\n",
    "[source](https://statisticsanddata.org/data/most-popular-backend-frameworks-2012-2023/)"
   ]
  },
  {
   "attachments": {},
   "cell_type": "markdown",
   "metadata": {
    "slideshow": {
     "slide_type": "subslide"
    }
   },
   "source": [
    "## Practice\n",
    "\n",
    "找到藏在 https://tw-csie-sprout.github.io/py2023/speaker 中的祕密。\n",
    "\n",
    "格式為: SPROUT{P0_XXXXXXXXXX}\n"
   ]
  },
  {
   "attachments": {},
   "cell_type": "markdown",
   "metadata": {
    "slideshow": {
     "slide_type": "slide"
    }
   },
   "source": [
    "# Flask Introduction"
   ]
  },
  {
   "attachments": {},
   "cell_type": "markdown",
   "metadata": {
    "slideshow": {
     "slide_type": "subslide"
    }
   },
   "source": [
    "## Before we start\n",
    "\n",
    "1. `pip install flask`\n",
    "2. 準備一個獨立的資料夾裝所有檔案"
   ]
  },
  {
   "attachments": {},
   "cell_type": "markdown",
   "metadata": {
    "slideshow": {
     "slide_type": "subslide"
    }
   },
   "source": [
    "## Hello Sprout!\n",
    "\n",
    "https://github.com/namwoam/sprout-material/blob/main/py2023-taipei-flask/src/example-1.py"
   ]
  },
  {
   "attachments": {},
   "cell_type": "markdown",
   "metadata": {
    "slideshow": {
     "slide_type": "subslide"
    }
   },
   "source": [
    "### Initialize\n",
    "\n",
    "```py\n",
    "from flask import Flask\n",
    "app = Flask(__name__)\n",
    "```"
   ]
  },
  {
   "attachments": {},
   "cell_type": "markdown",
   "metadata": {
    "slideshow": {
     "slide_type": "subslide"
    }
   },
   "source": [
    "### Define route and view\n",
    "\n",
    "```py\n",
    "@app.route(\"/\")\n",
    "def hello_sprout():\n",
    "    return \"Hello, Sprout!\"\n",
    "```"
   ]
  },
  {
   "attachments": {},
   "cell_type": "markdown",
   "metadata": {
    "slideshow": {
     "slide_type": "subslide"
    }
   },
   "source": [
    "### Run the app!\n",
    "\n",
    "```py\n",
    "if __name__ == \"__main__\":\n",
    "    app.run()\n",
    "```"
   ]
  },
  {
   "attachments": {},
   "cell_type": "markdown",
   "metadata": {
    "slideshow": {
     "slide_type": "subslide"
    }
   },
   "source": [
    "### Execution\n",
    "\n",
    "1. 設定環境變數。\n",
    "    - Windows cmd: ```set FLASK_APP=example-1``` \n",
    "    - Windows Powershell: ```$env:FLASK_APP = \"example-1\"```\n",
    "    - Mac/Linux: ```export FLASK_APP=example-1``` \n",
    "\n",
    "2. 執行```flask run```"
   ]
  },
  {
   "attachments": {},
   "cell_type": "markdown",
   "metadata": {
    "slideshow": {
     "slide_type": "subslide"
    }
   },
   "source": [
    "![](./image/10.png)"
   ]
  },
  {
   "attachments": {},
   "cell_type": "markdown",
   "metadata": {
    "slideshow": {
     "slide_type": "subslide"
    }
   },
   "source": [
    "## Practice\n",
    "\n",
    "1. 讓伺服器顯示自己的名字。\n",
    "2. 執行的時候使用```app.run(host=\"0.0.0.0\")```。\n",
    "3. 查詢自己的 ip address [link](https://support.google.com/websearch/answer/1696588)"
   ]
  },
  {
   "attachments": {},
   "cell_type": "markdown",
   "metadata": {
    "slideshow": {
     "slide_type": "slide"
    }
   },
   "source": [
    "# HTML: HyperText Markup Language"
   ]
  },
  {
   "attachments": {},
   "cell_type": "markdown",
   "metadata": {
    "slideshow": {
     "slide_type": "subslide"
    }
   },
   "source": [
    "## I want to have structure on my website!\n",
    "\n",
    "以資芽官網為例"
   ]
  },
  {
   "attachments": {},
   "cell_type": "markdown",
   "metadata": {
    "slideshow": {
     "slide_type": "subslide"
    }
   },
   "source": [
    "![](./image/12.png)"
   ]
  },
  {
   "attachments": {},
   "cell_type": "markdown",
   "metadata": {
    "slideshow": {
     "slide_type": "subslide"
    }
   },
   "source": [
    "## HTML Elements\n",
    "\n",
    "![](./image/11.png)"
   ]
  },
  {
   "attachments": {},
   "cell_type": "markdown",
   "metadata": {
    "slideshow": {
     "slide_type": "subslide"
    }
   },
   "source": [
    "### Simple Introduction\n",
    "1. `<h1>Title</h1>` n=1...5\n",
    "2. `<p>Text</p>`\n",
    "3. Table\n",
    "```html\n",
    "<table>\n",
    "  <tr>\n",
    "    <th>Company</th>\n",
    "    <th>Contact</th>\n",
    "    <th>Country</th>\n",
    "  </tr>\n",
    "  <tr>\n",
    "    <td>Alfreds Futterkiste</td>\n",
    "    <td>Maria Anders</td>\n",
    "    <td>Germany</td>\n",
    "  </tr>\n",
    "  <tr>\n",
    "    <td>Centro comercial Moctezuma</td>\n",
    "    <td>Francisco Chang</td>\n",
    "    <td>Mexico</td>\n",
    "  </tr>\n",
    "</table>\n",
    "```"
   ]
  },
  {
   "attachments": {},
   "cell_type": "markdown",
   "metadata": {
    "slideshow": {
     "slide_type": "subslide"
    }
   },
   "source": [
    "### Simple Introduction Cont.\n",
    "\n",
    "4. `<img src=\"/link/to/image.extension\">`\n",
    "5. `<h1 style=\"color:red;\">Red Title!</h1>`\n",
    "\n",
    "For more information, read: [link](https://www.w3schools.com/html/default.asp)"
   ]
  },
  {
   "attachments": {},
   "cell_type": "markdown",
   "metadata": {
    "slideshow": {
     "slide_type": "subslide"
    }
   },
   "source": [
    "## Practice\n",
    "\n",
    "1. 讓伺服器自己的名字。\n",
    "2. 回傳最高級的標題，字體顏色為藍色。\n"
   ]
  },
  {
   "attachments": {},
   "cell_type": "markdown",
   "metadata": {
    "slideshow": {
     "slide_type": "slide"
    }
   },
   "source": [
    "# Flask Cont."
   ]
  },
  {
   "attachments": {},
   "cell_type": "markdown",
   "metadata": {
    "slideshow": {
     "slide_type": "subslide"
    }
   },
   "source": [
    "## Route & View\n",
    "\n",
    "![](./image/15.png)\n",
    "![](./image/14.png)\n",
    "![](./image/13.png)\n"
   ]
  },
  {
   "attachments": {},
   "cell_type": "markdown",
   "metadata": {
    "slideshow": {
     "slide_type": "fragment"
    }
   },
   "source": [
    "網站上可以有很多頁面(view)，可以通過不同路由(route)存取"
   ]
  },
  {
   "attachments": {},
   "cell_type": "markdown",
   "metadata": {
    "slideshow": {
     "slide_type": "subslide"
    }
   },
   "source": [
    "## Hello Sprout! 2.0\n",
    "\n",
    "https://github.com/namwoam/sprout-material/blob/main/py2023-taipei-flask/src/example-2.py"
   ]
  },
  {
   "attachments": {},
   "cell_type": "markdown",
   "metadata": {
    "slideshow": {
     "slide_type": "subslide"
    }
   },
   "source": [
    "## Different Routes\n",
    "```python\n",
    "@app.route(\"/location\")\n",
    "def location():\n",
    "    return '<iframe src=\"https://www.google.com/maps/embed?pb=!1m18!1m12!1m3!1d3615.4313908491335!2d121.53896767367566!3d25.01943013888124!2m3!1f0!2f0!3f0!3m2!1i1024!2i768!4f13.1!3m3!1m2!1s0x3442aa2669686ea5%3A0x23428906fb6d9683!2z5Y-w5aSn6LOH6KiK5bel56iL6aSo77yI5b6355Sw6aSo77yJ!5e0!3m2!1sen!2stw!4v1684048829466!5m2!1sen!2stw\" width=\"600\" height=\"450\" style=\"border:0;\" allowfullscreen=\"\" loading=\"lazy\" referrerpolicy=\"no-referrer-when-downgrade\"></iframe>'\n",
    "\n",
    "@app.route(\"/price\")\n",
    "def price():\n",
    "    return \"<p>兩個階段都1700</p>\"\n",
    "```"
   ]
  },
  {
   "attachments": {},
   "cell_type": "markdown",
   "metadata": {
    "slideshow": {
     "slide_type": "subslide"
    }
   },
   "source": [
    "## Dynamic Routes\n",
    "```python\n",
    "@app.route(\"/student/<studentName>\")\n",
    "def hello_student(studentName):\n",
    "    return f\"<h1>Hello, {studentName}!</h1>\"\n",
    "```"
   ]
  },
  {
   "attachments": {},
   "cell_type": "markdown",
   "metadata": {
    "slideshow": {
     "slide_type": "subslide"
    }
   },
   "source": [
    "## HTTP parameters\n",
    "```python\n",
    "password = \"bingchilling\"\n",
    "@app.route(\"/secret\")\n",
    "def getSecret():\n",
    "    try:\n",
    "        inputPassword = request.args.get(\"password\")\n",
    "        if password != inputPassword:\n",
    "            raise Exception(\"Password incorrect\")\n",
    "        return \"<h1>我的房子還蠻大的</h1>\"\n",
    "    except Exception as e:\n",
    "        return f\"403 Forbidden : {e}\", 403\n",
    "```"
   ]
  },
  {
   "attachments": {},
   "cell_type": "markdown",
   "metadata": {
    "slideshow": {
     "slide_type": "fragment"
    }
   },
   "source": [
    "`http://{app.host}:{app.port}/secret?password=bingchilling`"
   ]
  },
  {
   "attachments": {},
   "cell_type": "markdown",
   "metadata": {
    "slideshow": {
     "slide_type": "subslide"
    }
   },
   "source": [
    "## HTTP Protocols\n",
    "```python\n",
    "@app.route(\"/secret\")\n",
    "def getSecret():\n",
    "    try:\n",
    "        inputPassword = request.args.get(\"password\")\n",
    "        if password != inputPassword:\n",
    "            raise Exception(\"Password incorrect\")\n",
    "        return \"<h1>我的房子還蠻大的</h1>\"\n",
    "    except Exception as e:\n",
    "        return f\"403 Forbidden : {e}\", 403\n",
    "```\n"
   ]
  },
  {
   "attachments": {},
   "cell_type": "markdown",
   "metadata": {
    "slideshow": {
     "slide_type": "subslide"
    }
   },
   "source": [
    "![](./image/16.png)"
   ]
  },
  {
   "attachments": {},
   "cell_type": "markdown",
   "metadata": {
    "slideshow": {
     "slide_type": "subslide"
    }
   },
   "source": [
    "### Status Code\n",
    "- 200 -> OK\n",
    "- 403 -> Forbidden\n",
    "- 404 -> Not Found\n",
    "- 500 -> Internal Server Error\n",
    "\n",
    "More information: [link](https://developer.mozilla.org/en-US/docs/Web/HTTP/Status#server_error_responses)"
   ]
  },
  {
   "attachments": {},
   "cell_type": "markdown",
   "metadata": {
    "slideshow": {
     "slide_type": "subslide"
    }
   },
   "source": [
    "## Redirect\n",
    "```python\n",
    "@app.route(\"/rick\")\n",
    "def rickroll():\n",
    "    return redirect(\"https://www.youtube.com/watch?v=dQw4w9WgXcQ\")\n",
    "```"
   ]
  },
  {
   "attachments": {},
   "cell_type": "markdown",
   "metadata": {
    "slideshow": {
     "slide_type": "subslide"
    }
   },
   "source": [
    "## Practice\n",
    "1. 建立一個新的 route `traffic`。\n",
    "2. 顯示所有頁面被訪問的次數。"
   ]
  },
  {
   "attachments": {},
   "cell_type": "markdown",
   "metadata": {
    "slideshow": {
     "slide_type": "slide"
    }
   },
   "source": [
    "# Template Response"
   ]
  },
  {
   "attachments": {},
   "cell_type": "markdown",
   "metadata": {
    "slideshow": {
     "slide_type": "subslide"
    }
   },
   "source": [
    "## Before we start\n",
    "\n",
    "1. 建立名為`templates`的資料夾放模板檔案（一字不差！）。"
   ]
  },
  {
   "attachments": {},
   "cell_type": "markdown",
   "metadata": {
    "slideshow": {
     "slide_type": "subslide"
    }
   },
   "source": [
    "## Template\n",
    "\n",
    "```python\n",
    "@app.route(\"/\")\n",
    "def index():\n",
    "    return render_template(\"index.html\")\n",
    "```\n",
    "\n",
    "```html\n",
    "<h1>Hello Sprout!</h1>\n",
    "```"
   ]
  },
  {
   "attachments": {},
   "cell_type": "markdown",
   "metadata": {
    "slideshow": {
     "slide_type": "fragment"
    }
   },
   "source": [
    "邏輯與頁面分離"
   ]
  },
  {
   "attachments": {},
   "cell_type": "markdown",
   "metadata": {
    "slideshow": {
     "slide_type": "subslide"
    }
   },
   "source": [
    "## Hello Jay!\n",
    "\n",
    "- code: https://github.com/namwoam/sprout-material/blob/main/py2023-taipei-flask/src/example-3.py\n",
    "- templates: https://github.com/namwoam/sprout-material/tree/main/py2023-taipei-flask/src/templates"
   ]
  },
  {
   "attachments": {},
   "cell_type": "markdown",
   "metadata": {
    "slideshow": {
     "slide_type": "subslide"
    }
   },
   "source": [
    "## Variables\n",
    "```python\n",
    "@app.route(\"/jay\")\n",
    "def jaySayHi():\n",
    "    return render_template(\"jay.html\" , longName = \"阿傑\" , shortName = \"傑哥\")\n",
    "```"
   ]
  },
  {
   "attachments": {},
   "cell_type": "markdown",
   "metadata": {
    "slideshow": {
     "slide_type": "fragment"
    }
   },
   "source": [
    "```html\n",
    "<h1>對了，我叫{{ longName }}，我也常來這裡玩，痾，他們都叫我{{ shortName }}。</h1>\n",
    "```"
   ]
  },
  {
   "attachments": {},
   "cell_type": "markdown",
   "metadata": {
    "slideshow": {
     "slide_type": "subslide"
    }
   },
   "source": [
    "## Condition\n",
    "\n",
    "```python\n",
    "@app.route(\"/adult\")\n",
    "def adult():\n",
    "    age = 0\n",
    "    try:\n",
    "        age = int( request.args.get(\"age\"))\n",
    "    except Exception as e:\n",
    "        print(e)\n",
    "    return render_template(\"adult.html\" , age = age )\n",
    "```"
   ]
  },
  {
   "attachments": {},
   "cell_type": "markdown",
   "metadata": {
    "slideshow": {
     "slide_type": "fragment"
    }
   },
   "source": [
    "```html\n",
    "<h1>都{{ age }}歲了還那麼害羞</h1>\n",
    "{% if age > 18 %}\n",
    "<h1>還可以教你登大人喔</h1>\n",
    "{% else %}\n",
    "<h1>但是你不能登大人。</h1>\n",
    "{% endif %}\n",
    "```"
   ]
  },
  {
   "attachments": {},
   "cell_type": "markdown",
   "metadata": {
    "slideshow": {
     "slide_type": "subslide"
    }
   },
   "source": [
    "## Loop\n",
    "\n",
    "```python\n",
    "@app.route(\"/store\")\n",
    "def store():\n",
    "    cart = {\"酒\":10 , \"麵包\":20 , \"南瓜\":887414}\n",
    "    return render_template(\"store.html\" , cart = cart )\n",
    "```"
   ]
  },
  {
   "attachments": {},
   "cell_type": "markdown",
   "metadata": {
    "slideshow": {
     "slide_type": "fragment"
    }
   },
   "source": [
    "```html\n",
    "<h1>什麼都可以拿嗎杰哥？</h1>\n",
    "{%for item , quantity in cart.items() %}\n",
    " <p>{{item}} 買了 {{quantity}} 個。</p>\n",
    "{% endfor %}\n",
    "```"
   ]
  },
  {
   "attachments": {},
   "cell_type": "markdown",
   "metadata": {
    "slideshow": {
     "slide_type": "subslide"
    }
   },
   "source": [
    "## Practice\n",
    "\n",
    "1. 下載臺大科系資料 https://github.com/namwoam/sprout-material/blob/main/py2023-taipei-flask/src/dpt_code.xls\n",
    "2. 參考範例程式碼 https://github.com/namwoam/sprout-material/blob/main/py2023-taipei-flask/src/example-4.py\n",
    "3. 安裝套件 `pip install xlrd`\n",
    "4. 實做函數 `department()` 中查詢科系資料的部份。\n",
    "\n"
   ]
  },
  {
   "attachments": {},
   "cell_type": "markdown",
   "metadata": {
    "slideshow": {
     "slide_type": "slide"
    }
   },
   "source": [
    "# Request"
   ]
  },
  {
   "attachments": {},
   "cell_type": "markdown",
   "metadata": {
    "slideshow": {
     "slide_type": "subslide"
    }
   },
   "source": [
    "## Before we start\n",
    "\n",
    "1. `pip install requests`"
   ]
  },
  {
   "cell_type": "code",
   "execution_count": 7,
   "metadata": {
    "slideshow": {
     "slide_type": "subslide"
    }
   },
   "outputs": [
    {
     "name": "stdout",
     "output_type": "stream",
     "text": [
      "200 <!DOCTYPE html>\n",
      "<html lang=\"zh-Hant\"><head><meta charset=\"UTF-8\"><meta name=\"viewport\" content=\"width=device-width, initial-scale=1.0, minimum-scale=1.0\">\n",
      "<link rel=\"stylesheet\" href=\"index.css\">\n",
      "<title>æ¼ç®æ³ç­è¨</title></head><body>\n",
      "<div class=\"b\">\n",
      "<div class=\"t\">Search</div>\n",
      "<div class=\"l\">\n",
      "<script>function search(e) {if (e.keyCode == 13) {window.location.assign('https://www.google.com/search?q=site:web.ntnu.edu.tw/~algo/+' + document.getElementById(\"input\").value.replace(/\\s/gi,'+')); return false;}}</script>\n",
      "<input id=\"input\" type=\"text\" maxlength=\"64\" value=\"\" onkeypress=\"return search(event)\">\n",
      "</div></div>\n",
      "\n",
      "<div class=\"b\">\n",
      "<div class=\"t\">About</div>\n",
      "<div class=\"l\">\n",
      "<a href=\"about.html\">About</a><br>\n",
      "</div></div>\n",
      "\n",
      "<div class=\"b\">\n",
      "<div class=\"t\">Algorithm</div>\n",
      "<div class=\"i\"><img src=\"indexAlgorithm.png\"></div>\n",
      "<div class=\"l\">\n",
      "<a href=\"Algorithm.html\">Algorithm</a><br>\n",
      "<a href=\"AlgorithmDesign.html\">Algorithm Design</a><br>\n",
      "â£ <a href=\"Backtracking.html\">Backtracking</a><br>\n",
      "â£ <a href=\"DynamicProgramming.html\">Dynamic Programming</a><br>\n",
      "â£ <a href=\"OptimalPathProblem.html\">ð£</a>\n",
      "â£ <a href=\"KnapsackProblem.html\">ð¤</a>\n",
      "â£ <a href=\"LocationAllocationProblem.html\">ð¥</a>\n",
      "â£ <a href=\"MaximumSubarrayProblem.html\">ð¦</a><br>\n",
      "<a href=\"AlgorithmAnalysis.html\">Algorithm Analysis</a><br>\n",
      "</div></div>\n",
      "\n",
      "<div class=\"b\">\n",
      "<div class=\"t\">Data Structure</div>\n",
      "<div class=\"i\"><img src=\"indexDataStructure.png\"></div>\n",
      "<div class=\"l\">\n",
      "<a href=\"Data.html\">Data</a><br>\n",
      "<a href=\"Set.html\">Set</a><br>\n",
      "<a href=\"Ordering2.html\">Ordering</a><br>\n",
      "<a href=\"Sequence2.html\">Sequence</a><br>\n",
      "<a href=\"Position.html\">Position</a><br>\n",
      "<a href=\"Region.html\">Region</a><br>\n",
      "</div></div>\n",
      "\n",
      "<div class=\"b\">\n",
      "<div class=\"t\">Algorithmic Graph Theory</div>\n",
      "<div class=\"i\"><img src=\"indexAlgorithmicGraphTheory.png\"></div>\n",
      "<div class=\"l\">\n",
      "<a href=\"Graph.html\">Graph</a> â£ <a href=\"Graph2.html\">ð¤</a> â£ <a href=\"GraphSpectrum.html\">ð¥</a><br>\n",
      "<a href=\"Tree.html\">Tree</a> â£ <a href=\"Tree2.html\">ð¤</a> â£ <a href=\"BinaryTree.html\">ð¥</a><br>\n",
      "<a href=\"DirectedAcyclicGraph.html\">Directed Acyclic Graph</a><br>\n",
      "<a href=\"RootedTree.html\">Rooted Tree</a><br>\n",
      "<a href=\"ConnectedGraph.html\">Connected Graph</a> â£ <a href=\"ConnectedComponent.html\">ð¤</a> â£ <a href=\"GraphDecomposition.html\">ð¥</a><br>\n",
      "<a href=\"IsomorphicGraph.html\">Isomorphic Graph</a><br>\n",
      "<a href=\"CompleteGraph.html\">Complete Graph</a><br>\n",
      "<a href=\"PlanarGraph.html\">Planar Graph</a><br>\n",
      "<a href=\"ExpanderGraph.html\">Expander Graph</a><br>\n",
      "<a href=\"BipartiteGraph.html\">Bipartite Graph</a><br>\n",
      "<a href=\"ChordalGraph.html\">Chordal Graph</a><br>\n",
      "<a href=\"PerfectGraph.html\">Perfect Graph</a><br>\n",
      "</div></div>\n",
      "\n",
      "<div class=\"b\">\n",
      "<div class=\"t\">Combinatorial Optimization</div>\n",
      "<div class=\"i\"><img src=\"indexCombinatorialOptimization.png\"></div>\n",
      "<div class=\"l\">\n",
      "<a href=\"Path.html\">Path</a> â£ <a href=\"Path2.html\">ð¤</a> â£ <a href=\"Path3.html\">ð¥</a> â£ <a href=\"Path4.html\">ð¦</a><br>\n",
      "<a href=\"SpanningTree.html\">Spanning Tree</a> â£ <a href=\"SpanningTree2.html\">ð¤</a><br>\n",
      "<a href=\"Cycle.html\">Cycle</a><br>\n",
      "<a href=\"Flow.html\">Flow</a> â£ <a href=\"Flow2.html\">ð¤</a><br>\n",
      "<a href=\"Cut.html\">Cut</a> â£ <a href=\"Cut2.html\">ð¤</a> â£ <a href=\"Cut3.html\">ð¥</a><br>\n",
      "<a href=\"Matching.html\">Matching</a> â£ <a href=\"Matching2.html\">ð¤</a><br>\n",
      "<a href=\"Tour.html\">Tour</a><br>\n",
      "<a href=\"Scheduling.html\">Scheduling</a><br>\n",
      "<a href=\"Matroid.html\">Matroid</a><br>\n",
      "<a href=\"Domination.html\">Domination</a><br>\n",
      "<a href=\"Coloring.html\">Coloring</a><br>\n",
      "<a href=\"Labeling.html\">Labeling</a><br>\n",
      "</div></div>\n",
      "\n",
      "<div class=\"b\">\n",
      "<div class=\"t\">Computational Number Theory</div>\n",
      "<div class=\"i\"><img src=\"indexComputationalNumberTheory.png\"></div>\n",
      "<div class=\"l\">\n",
      "<a href=\"Number.html\">Number</a> â£ <a href=\"Bit.html\">Bit</a><br>\n",
      "<a href=\"Function.html\">Function</a> â£ <a href=\"Operation.html\">Operation</a><br>\n",
      "<a href=\"Divisor.html\">Divisor</a> â£ <a href=\"Partition.html\">Partition</a><br>\n",
      "<a href=\"Prime.html\">Prime</a> â£ <a href=\"Factorization.html\">Factorization</a><br>\n",
      "<a href=\"Residue.html\">Residue</a> â£ <a href=\"FiniteField.html\">Finite Field</a><br>\n",
      "<a href=\"Fraction.html\">Fraction</a> â£ <a href=\"Lattice.html\">Lattice</a><br>\n",
      "<a href=\"Permutation.html\">Permutation</a> â£ <a href=\"Count.html\">Count</a><br>\n",
      "<a href=\"Ordering.html\">Ordering</a> â£ <a href=\"Sort.html\">Sort</a><br>\n",
      "</div></div>\n",
      "\n",
      "<div class=\"b\">\n",
      "<div class=\"t\">Analytic Number Theory</div>\n",
      "<div class=\"i\"><img src=\"indexAnalyticNumberTheory.png\"></div>\n",
      "<div class=\"l\">\n",
      "<a href=\"Sequence.html\">Sequence</a> â£ <a href=\"Convolution.html\">Convolution</a><br>\n",
      "<a href=\"ArithmeticFunction.html\">Arithmetic Function</a><br>\n",
      "<a href=\"Recurrence.html\">Recurrence</a> â£ <a href=\"Filter.html\">Filter</a><br>\n",
      "<a href=\"IteratedFunction.html\">Iterated Function</a><br>\n",
      "<a href=\"Polynomial.html\">Polynomial</a><br>\n",
      "<a href=\"PolynomialFunction.html\">Polynomial Function</a><br>\n",
      "<a href=\"Series.html\">Series</a><br>\n",
      "<a href=\"ComplexFunction.html\">Complex Function</a><br>\n",
      "</div></div>\n",
      "\n",
      "\n",
      "<div class=\"b\">\n",
      "<div class=\"t\">Computational Geometry</div>\n",
      "<div class=\"i\"><img src=\"indexComputationalGeometry.png\"></div>\n",
      "<div class=\"l\">\n",
      "<a href=\"Point.html\">Point</a> â£ <a href=\"Point2.html\">ð¤</a><br>\n",
      "<a href=\"Shape.html\">Shape</a> â£ <a href=\"Shape2.html\">ð¤</a><br>\n",
      "<a href=\"Polygon.html\">Polygon</a> â£ <a href=\"Polygon2.html\">ð¤</a><br>\n",
      "<a href=\"ConvexHull.html\">Convex Hull</a> â£ <a href=\"ConvexHull2.html\">ð¤</a><br>\n",
      "<a href=\"Triangulation.html\">Triangulation</a><br>\n",
      "<a href=\"Neighbor.html\">Neighbor</a><br>\n",
      "</div></div>\n",
      "\n",
      "<div class=\"b\">\n",
      "<div class=\"t\">Discrete Differential Geometry</div>\n",
      "<div class=\"i\"><img src=\"indexDiscreteDifferentialGeometry.png\"></div>\n",
      "<div class=\"l\">\n",
      "<a href=\"Surface.html\">Surface</a><br>\n",
      "<a href=\"DifferentiableSurface.html\">Differentiable Surface</a><br>\n",
      "<a href=\"TopologicalSurface.html\">Topological Surface</a><br>\n",
      "<a href=\"MinimalSurface.html\">Minimal Surface</a><br>\n",
      "<a href=\"DevelopableSurface.html\">Developable Surface</a><br>\n",
      "<a href=\"Geodesic.html\">Geodesic</a><br>\n",
      "</div></div>\n",
      "\n",
      "<div class=\"b\">\n",
      "<div class=\"t\">Numerical Analysis</div>\n",
      "<div class=\"i\"><img src=\"indexNumericalAnalysis.png\"></div>\n",
      "<div class=\"l\">\n",
      "<a href=\"Function3.html\">Function</a><br>\n",
      "<a href=\"RootFinding.html\">Root Finding</a><br>\n",
      "<a href=\"Optimization.html\">Optimization</a> â£ <a href=\"MultivariateFunction.html\">ð¤</a> â£ <a href=\"ConvexOptimization.html\">ð¥</a><br>\n",
      "<a href=\"Interpolation.html\">Interpolation</a><br>\n",
      "<a href=\"Regression.html\">Regression</a><br>\n",
      "<a href=\"Approximation.html\">Approximation</a><br>\n",
      "</div></div>\n",
      "\n",
      "<div class=\"b\">\n",
      "<div class=\"t\">Numerical Linear Algebra</div>\n",
      "<div class=\"i\"><img src=\"indexNumericalLinearAlgebra.png\"></div>\n",
      "<div class=\"l\">\n",
      "<a href=\"LinearFunction.html\">Linear Function</a> â£ <a href=\"LinearFunction2.html\">ð¤</a> â£ <a href=\"LinearFunction3.html\">ð¥</a><br>\n",
      "<a href=\"LinearEquation.html\">Linear Equation</a><br>\n",
      "<a href=\"LinearOptimization.html\">Linear Optimization</a> â£ <a href=\"LinearOptimization2.html\">ð¤</a><br>\n",
      "<a href=\"SparseLinearFunction.html\">Sparse Linear Function</a><br>\n",
      "<a href=\"SparseLinearEquation.html\">Sparse Linear Equation</a><br>\n",
      "<a href=\"SparseLinearOptimization.html\">Sparse Linear Optimization</a><br>\n",
      "</div></div>\n",
      "\n",
      "<div class=\"b\">\n",
      "<div class=\"t\">Engineering Mathematics</div>\n",
      "<div class=\"i\"><img src=\"indexEngineeringMathematics.png\"></div>\n",
      "<div class=\"l\">\n",
      "<a href=\"Number2.html\">Number</a><br>\n",
      "<a href=\"Function2.html\">Function</a><br>\n",
      "<a href=\"Wave.html\">Wave</a><br>\n",
      "<a href=\"Spiral.html\">Spiral</a><br>\n",
      "<a href=\"Function4.html\">Function</a><br>\n",
      "<a href=\"FunctionalEquation.html\">Functional Equation</a><br>\n",
      "</div></div>\n",
      "\n",
      "<div class=\"b\">\n",
      "<div class=\"t\">Discrete Mathematics</div>\n",
      "<div class=\"i\"><img src=\"indexDiscreteMathematics.png\"></div>\n",
      "<div class=\"l\">\n",
      "<a href=\"Logic.html\">Logic</a><br>\n",
      "<a href=\"ProgrammingLanguage.html\">Language</a><br>\n",
      "<a href=\"Game.html\">Game</a><br>\n",
      "<a href=\"Grid.html\">Grid</a><br>\n",
      "</div></div>\n",
      "\n",
      "<div class=\"b\">\n",
      "<div class=\"t\">Data Processing</div>\n",
      "<div class=\"i\"><img src=\"indexDataProcessing.png\"></div>\n",
      "<div class=\"l\">\n",
      "<a href=\"Data2.html\">Data</a><br>\n",
      "<a href=\"Estimation.html\">Estimation</a><br>\n",
      "<a href=\"Fitting.html\">Fitting</a><br>\n",
      "<a href=\"Correlation.html\">Correlation</a><br>\n",
      "<a href=\"Factoring.html\">Factoring</a><br>\n",
      "<a href=\"Transformation.html\">Transformation</a><br>\n",
      "<a href=\"Embedding.html\">Embedding</a><br>\n",
      "<a href=\"Representation.html\">Representation</a><br>\n",
      "</div></div>\n",
      "\n",
      "<div class=\"b\">\n",
      "<div class=\"t\">Signal Processing</div>\n",
      "<div class=\"i\"><img src=\"indexSignalProcessing.png\"></div>\n",
      "<div class=\"l\">\n",
      "<a href=\"Signal.html\">Signal</a> â£ <a href=\"PeriodicSignal.html\">ð¤</a><br>\n",
      "<a href=\"State.html\">State</a> â£ <a href=\"HiddenMarkovModel.html\">ð¤</a><br>\n",
      "<a href=\"System.html\">System</a> â£ <a href=\"FunctionNetwork.html\">ð¤</a><br>\n",
      "</div></div>\n",
      "\n",
      "<div class=\"b\">\n",
      "<div class=\"t\">String Processing</div>\n",
      "<div class=\"i\"><img src=\"indexStringProcessing.png\"></div>\n",
      "<div class=\"l\">\n",
      "<a href=\"String.html\">String</a><br>\n",
      "<a href=\"Substring.html\">Substring</a> â£ <a href=\"Substring2.html\">ð¤</a> â£ <a href=\"Substring3.html\">ð¥</a> â£ <a href=\"Substring4.html\">ð¦</a><br>\n",
      "<a href=\"Subsequence.html\">Subsequence</a> â£ <a href=\"Subsequence2.html\">ð¤</a> â£ <a href=\"Subsequence3.html\">ð¥</a><br>\n",
      "<a href=\"Palindrome.html\">Palindrome</a><br>\n",
      "<a href=\"Language.html\">Language</a><br>\n",
      "</div></div>\n",
      "\n",
      "<div class=\"b\">\n",
      "<div class=\"t\">Coding Theory</div>\n",
      "<div class=\"i\"><img src=\"indexCodingTheory.png\"></div>\n",
      "<div class=\"l\">\n",
      "<a href=\"Code.html\">Code</a><br>\n",
      "<a href=\"Compression.html\">Compression</a><br>\n",
      "<a href=\"Correction.html\">Correction</a> â£ <a href=\"Correction2.html\">ð¤</a><br>\n",
      "<a href=\"Encryption.html\">Encryption</a> â£ <a href=\"Encryption2.html\">ð¤</a><br>\n",
      "<a href=\"Transmission.html\">Transmission</a><br>\n",
      "</div></div>\n",
      "\n",
      "<div class=\"b\">\n",
      "<div class=\"t\">Multimedia</div>\n",
      "<div class=\"i\"><img src=\"indexMultimedia.png\"></div>\n",
      "<div class=\"l\">\n",
      "<a href=\"Data3.html\">Data</a> â£ <a href=\"Sensor.html\">Sensor</a><br>\n",
      "<a href=\"Text.html\">Text</a> â£ <a href=\"NaturalLanguage.html\">Language</a><br>\n",
      "<a href=\"Audio.html\">Audio</a> â£ <a href=\"Sound.html\">Sound</a><br>\n",
      "<a href=\"Image.html\">Image</a> â£ <a href=\"Color.html\">Color</a><br>\n",
      "<a href=\"Model.html\">Model</a> â£ <a href=\"Simulation.html\">Simulation</a><br>\n",
      "<a href=\"Graphics.html\">Graphics</a> â£ <a href=\"Animation.html\">Animation</a><br>\n",
      "<a href=\"Camera.html\">Camera</a> â£ <a href=\"Vision.html\">Vision</a><br>\n",
      "<a href=\"Glass.html\">Glass</a> â£ <a href=\"Motion.html\">Motion</a><br>\n",
      "<a href=\"Robot.html\">Robot</a> â£ <a href=\"Perception.html\">Perception</a><br>\n",
      "</div></div>\n",
      "\n",
      "<div class=\"b\">\n",
      "<div class=\"t\">Interdisciplinarity</div>\n",
      "<div class=\"i\"><img src=\"indexInterdisciplinarity.png\"></div>\n",
      "<div class=\"l\">\n",
      "<a href=\"Computer.html\">Computer</a><br>\n",
      "<a href=\"Math.html\">Math</a><br>\n",
      "<a href=\"Physics.html\">Physics</a><br>\n",
      "<a href=\"Biology.html\">Biology</a><br>\n",
      "<a href=\"Medicine.html\">Medicine</a><br>\n",
      "<a href=\"Geography.html\">Geography</a><br>\n",
      "<a href=\"Sociology.html\">Sociology</a><br>\n",
      "<a href=\"Engineering.html\">Engineering</a><br>\n",
      "<a href=\"Art.html\">Art</a><br>\n",
      "</div></div>\n",
      "\n",
      "<div class=\"b\">\n",
      "<div class=\"t\">Development</div>\n",
      "<div class=\"l\">\n",
      "<a href=\"Programming.html\">Programming</a><br>\n",
      "<a href=\"ProblemSolving.html\">Problem Solving</a><br>\n",
      "<a href=\"Activity.html\">Activity</a><br>\n",
      "</div></div>\n",
      "\n",
      "<div class=\"b\">\n",
      "<div class=\"t\">Innovation</div>\n",
      "<div class=\"l\">\n",
      "<a href=\"Science.html\">Science</a><br>\n",
      "<a href=\"Technology.html\">Technology</a><br>\n",
      "<a href=\"Industry.html\">Industry</a> â£ <a href=\"Industry2.html\">ð¤</a><br>\n",
      "</div></div>\n",
      "</body></html>\n"
     ]
    }
   ],
   "source": [
    "import requests\n",
    "\n",
    "req = requests.get(\"https://web.ntnu.edu.tw/~algo/\")\n",
    "\n",
    "print(req.status_code , req.text)"
   ]
  },
  {
   "attachments": {},
   "cell_type": "markdown",
   "metadata": {
    "slideshow": {
     "slide_type": "slide"
    }
   },
   "source": [
    "# Deploy"
   ]
  },
  {
   "attachments": {},
   "cell_type": "markdown",
   "metadata": {
    "slideshow": {
     "slide_type": "subslide"
    }
   },
   "source": [
    "## 試試看用不同的電腦連接到自己的網站"
   ]
  },
  {
   "attachments": {},
   "cell_type": "markdown",
   "metadata": {
    "slideshow": {
     "slide_type": "subslide"
    }
   },
   "source": [
    "## pythonanywhere\n",
    "\n",
    "![](./image/18.png)\n",
    "\n",
    "https://www.pythonanywhere.com/"
   ]
  },
  {
   "attachments": {},
   "cell_type": "markdown",
   "metadata": {
    "slideshow": {
     "slide_type": "subslide"
    }
   },
   "source": [
    "![](./image/17.png)"
   ]
  },
  {
   "attachments": {},
   "cell_type": "markdown",
   "metadata": {
    "slideshow": {
     "slide_type": "subslide"
    }
   },
   "source": [
    "![](./image/18.png)"
   ]
  },
  {
   "attachments": {},
   "cell_type": "markdown",
   "metadata": {
    "slideshow": {
     "slide_type": "subslide"
    }
   },
   "source": [
    "![](./image/19.png)"
   ]
  },
  {
   "attachments": {},
   "cell_type": "markdown",
   "metadata": {
    "slideshow": {
     "slide_type": "subslide"
    }
   },
   "source": [
    "![](./image/20.png)"
   ]
  },
  {
   "attachments": {},
   "cell_type": "markdown",
   "metadata": {
    "slideshow": {
     "slide_type": "subslide"
    }
   },
   "source": [
    "![](./image/21.png)"
   ]
  },
  {
   "attachments": {},
   "cell_type": "markdown",
   "metadata": {
    "slideshow": {
     "slide_type": "subslide"
    }
   },
   "source": [
    "![](./image/22.png)"
   ]
  },
  {
   "attachments": {},
   "cell_type": "markdown",
   "metadata": {
    "slideshow": {
     "slide_type": "subslide"
    }
   },
   "source": [
    "![](./image/23.png)"
   ]
  },
  {
   "attachments": {},
   "cell_type": "markdown",
   "metadata": {
    "slideshow": {
     "slide_type": "subslide"
    }
   },
   "source": [
    "![](./image/24.png)"
   ]
  },
  {
   "attachments": {},
   "cell_type": "markdown",
   "metadata": {
    "slideshow": {
     "slide_type": "subslide"
    }
   },
   "source": [
    "![](./image/25.png)"
   ]
  },
  {
   "attachments": {},
   "cell_type": "markdown",
   "metadata": {
    "slideshow": {
     "slide_type": "subslide"
    }
   },
   "source": [
    "![](./image/26.png)"
   ]
  },
  {
   "attachments": {},
   "cell_type": "markdown",
   "metadata": {
    "slideshow": {
     "slide_type": "subslide"
    }
   },
   "source": [
    "## 網頁非常好\n",
    "![](./image/27.png)"
   ]
  },
  {
   "attachments": {},
   "cell_type": "markdown",
   "metadata": {
    "slideshow": {
     "slide_type": "subslide"
    }
   },
   "source": [
    "## See also:\n",
    "\n",
    "- https://help.pythonanywhere.com/pages/Flask/"
   ]
  },
  {
   "attachments": {},
   "cell_type": "markdown",
   "metadata": {
    "slideshow": {
     "slide_type": "slide"
    }
   },
   "source": [
    "# Additional Information\n",
    "\n",
    "1. SQL資料庫 https://flask-sqlalchemy.palletsprojects.com/en/2.x/\n",
    "\n",
    "2. Email發送 https://pythonhosted.org/Flask-Mail/\n",
    "\n",
    "3. 一堆酷東西 https://www.fullstackpython.com/flask-extensions-plug-ins-related-libraries.html\n",
    "\n",
    "4. 編教材時用的工具書 https://www.books.com.tw/products/0010793455?sloc=main"
   ]
  },
  {
   "attachments": {},
   "cell_type": "markdown",
   "metadata": {
    "slideshow": {
     "slide_type": "subslide"
    }
   },
   "source": [
    "## The sky is the limit!!"
   ]
  }
 ],
 "metadata": {
  "kernelspec": {
   "display_name": "sprout",
   "language": "python",
   "name": "python3"
  },
  "language_info": {
   "codemirror_mode": {
    "name": "ipython",
    "version": 3
   },
   "file_extension": ".py",
   "mimetype": "text/x-python",
   "name": "python",
   "nbconvert_exporter": "python",
   "pygments_lexer": "ipython3",
   "version": "3.11.2"
  },
  "orig_nbformat": 4
 },
 "nbformat": 4,
 "nbformat_minor": 2
}
