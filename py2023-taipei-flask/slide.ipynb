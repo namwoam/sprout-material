{
 "cells": [
  {
   "attachments": {},
   "cell_type": "markdown",
   "metadata": {
    "slideshow": {
     "slide_type": "slide"
    }
   },
   "source": [
    "# Python Flask\n",
    "資訊之芽 梁安哲 2023/05/21"
   ]
  },
  {
   "attachments": {},
   "cell_type": "markdown",
   "metadata": {
    "slideshow": {
     "slide_type": "slide"
    }
   },
   "source": [
    "# Outline\n",
    "- Internet Basics\n",
    "- Flask Introduction\n",
    "- HTML\n",
    "- Flask Cont.\n",
    "- Template Response\n",
    "- Request\n",
    "- Additional Information"
   ]
  },
  {
   "attachments": {},
   "cell_type": "markdown",
   "metadata": {
    "slideshow": {
     "slide_type": "slide"
    }
   },
   "source": [
    "# Internet Basics"
   ]
  },
  {
   "attachments": {},
   "cell_type": "markdown",
   "metadata": {
    "slideshow": {
     "slide_type": "subslide"
    }
   },
   "source": [
    "## Browser\n",
    "![](./image/03.jpg)"
   ]
  },
  {
   "attachments": {},
   "cell_type": "markdown",
   "metadata": {
    "slideshow": {
     "slide_type": "subslide"
    }
   },
   "source": [
    "## Visit: `http://www.example.com/`\n",
    "\n",
    "![](./image/04.png)\n"
   ]
  },
  {
   "attachments": {},
   "cell_type": "markdown",
   "metadata": {
    "slideshow": {
     "slide_type": "subslide"
    }
   },
   "source": [
    "### DNS(Domain Name System)\n",
    "\n",
    "![](./image/05.png)"
   ]
  },
  {
   "attachments": {},
   "cell_type": "markdown",
   "metadata": {
    "slideshow": {
     "slide_type": "subslide"
    }
   },
   "source": [
    "### HTTP/HTTPS request\n",
    "\n",
    "![](./image/06.png)"
   ]
  },
  {
   "attachments": {},
   "cell_type": "markdown",
   "metadata": {
    "slideshow": {
     "slide_type": "subslide"
    }
   },
   "source": [
    "### Receive files\n",
    "\n",
    "1. 程式檔案 (Code files): HTML , CSS , Javascript , webassembly\n",
    "2. 多媒體檔案 (Asset): 圖片 , 影片 , 音樂 ... \n",
    "\n",
    "![](./image/07.png)"
   ]
  },
  {
   "attachments": {},
   "cell_type": "markdown",
   "metadata": {
    "slideshow": {
     "slide_type": "subslide"
    }
   },
   "source": [
    "### Rendering\n",
    "\n",
    "![](./image/08.jpg)"
   ]
  },
  {
   "attachments": {},
   "cell_type": "markdown",
   "metadata": {
    "slideshow": {
     "slide_type": "subslide"
    }
   },
   "source": [
    "## Where is Python?\n",
    "\n",
    "![](./image/01.jpeg)"
   ]
  },
  {
   "attachments": {},
   "cell_type": "markdown",
   "metadata": {
    "slideshow": {
     "slide_type": "subslide"
    }
   },
   "source": [
    "### Frontend? Backend?\n",
    "\n",
    "![](./image/02.webp)\n"
   ]
  },
  {
   "attachments": {},
   "cell_type": "markdown",
   "metadata": {
    "slideshow": {
     "slide_type": "subslide"
    }
   },
   "source": [
    "- 前端是瀏覽器上運行的程式碼。由於瀏覽器上只能執行HTML、CSS、Javascript、webassembly，因此前端只以這四種語言構成。\n",
    "\n",
    "- 後端是伺服器上運行的程式碼。基本上可以使用任何程式語言。"
   ]
  },
  {
   "attachments": {},
   "cell_type": "markdown",
   "metadata": {
    "slideshow": {
     "slide_type": "subslide"
    }
   },
   "source": [
    "![](./image/09.png)\n",
    "\n",
    "[source](https://statisticsanddata.org/data/most-popular-backend-frameworks-2012-2023/)"
   ]
  },
  {
   "attachments": {},
   "cell_type": "markdown",
   "metadata": {
    "slideshow": {
     "slide_type": "subslide"
    }
   },
   "source": [
    "## Practice\n",
    "\n",
    "找到藏在 https://tw-csie-sprout.github.io/py2023/speaker 中的祕密。\n",
    "\n",
    "格式為: SPROUT{P0_XXXXXXXXXX}\n"
   ]
  },
  {
   "attachments": {},
   "cell_type": "markdown",
   "metadata": {
    "slideshow": {
     "slide_type": "slide"
    }
   },
   "source": [
    "# Flask Introduction"
   ]
  },
  {
   "attachments": {},
   "cell_type": "markdown",
   "metadata": {
    "slideshow": {
     "slide_type": "subslide"
    }
   },
   "source": [
    "## Before we start\n",
    "\n",
    "1. `pip install flask`\n",
    "2. 準備一個獨立的資料夾裝所有檔案"
   ]
  },
  {
   "attachments": {},
   "cell_type": "markdown",
   "metadata": {
    "slideshow": {
     "slide_type": "subslide"
    }
   },
   "source": [
    "## Hello Sprout!\n",
    "\n",
    "https://github.com/namwoam/sprout-material/blob/main/py2023-taipei-flask/src/example-1.py"
   ]
  },
  {
   "attachments": {},
   "cell_type": "markdown",
   "metadata": {
    "slideshow": {
     "slide_type": "subslide"
    }
   },
   "source": [
    "### Initialize\n",
    "\n",
    "```py\n",
    "from flask import Flask\n",
    "app = Flask(__name__)\n",
    "```"
   ]
  },
  {
   "attachments": {},
   "cell_type": "markdown",
   "metadata": {
    "slideshow": {
     "slide_type": "subslide"
    }
   },
   "source": [
    "### Define route and view\n",
    "\n",
    "```py\n",
    "@app.route(\"/\")\n",
    "def hello_sprout():\n",
    "    return \"Hello, Sprout!\"\n",
    "```"
   ]
  },
  {
   "attachments": {},
   "cell_type": "markdown",
   "metadata": {
    "slideshow": {
     "slide_type": "subslide"
    }
   },
   "source": [
    "### Run the app!\n",
    "\n",
    "```py\n",
    "if __name__ == \"__main__\":\n",
    "    app.run()\n",
    "```"
   ]
  },
  {
   "attachments": {},
   "cell_type": "markdown",
   "metadata": {
    "slideshow": {
     "slide_type": "subslide"
    }
   },
   "source": [
    "### Execution\n",
    "\n",
    "1. 設定環境變數。\n",
    "    - Windows cmd: ```set FLASK_APP=example-1``` \n",
    "    - Windows Powershell: ```$env:FLASK_APP = \"example-1\"```\n",
    "    - Mac/Linux: ```export FLASK_APP=example-1``` \n",
    "\n",
    "2. 執行```flask run```"
   ]
  },
  {
   "attachments": {},
   "cell_type": "markdown",
   "metadata": {
    "slideshow": {
     "slide_type": "subslide"
    }
   },
   "source": [
    "![](./image/10.png)"
   ]
  },
  {
   "attachments": {},
   "cell_type": "markdown",
   "metadata": {
    "slideshow": {
     "slide_type": "subslide"
    }
   },
   "source": [
    "## Practice\n",
    "\n",
    "1. 讓伺服器顯示自己的名字。\n",
    "2. 執行的時候使用```app.run(host=\"0.0.0.0\")```。\n",
    "3. 查詢自己的 ip address [link](https://support.google.com/websearch/answer/1696588)"
   ]
  },
  {
   "attachments": {},
   "cell_type": "markdown",
   "metadata": {
    "slideshow": {
     "slide_type": "slide"
    }
   },
   "source": [
    "# HTML: HyperText Markup Language"
   ]
  },
  {
   "attachments": {},
   "cell_type": "markdown",
   "metadata": {
    "slideshow": {
     "slide_type": "subslide"
    }
   },
   "source": [
    "## I want to have structure on my website!\n",
    "\n",
    "以資芽官網為例"
   ]
  },
  {
   "attachments": {},
   "cell_type": "markdown",
   "metadata": {
    "slideshow": {
     "slide_type": "subslide"
    }
   },
   "source": [
    "![](./image/12.png)"
   ]
  },
  {
   "attachments": {},
   "cell_type": "markdown",
   "metadata": {
    "slideshow": {
     "slide_type": "subslide"
    }
   },
   "source": [
    "## HTML Elements\n",
    "\n",
    "![](./image/11.png)"
   ]
  },
  {
   "attachments": {},
   "cell_type": "markdown",
   "metadata": {
    "slideshow": {
     "slide_type": "subslide"
    }
   },
   "source": [
    "### Simple Introduction\n",
    "1. `<h1>Title</h1>` n=1...5\n",
    "2. `<p>Text</p>`\n",
    "3. Table\n",
    "```html\n",
    "<table>\n",
    "  <tr>\n",
    "    <th>Company</th>\n",
    "    <th>Contact</th>\n",
    "    <th>Country</th>\n",
    "  </tr>\n",
    "  <tr>\n",
    "    <td>Alfreds Futterkiste</td>\n",
    "    <td>Maria Anders</td>\n",
    "    <td>Germany</td>\n",
    "  </tr>\n",
    "  <tr>\n",
    "    <td>Centro comercial Moctezuma</td>\n",
    "    <td>Francisco Chang</td>\n",
    "    <td>Mexico</td>\n",
    "  </tr>\n",
    "</table>\n",
    "```"
   ]
  },
  {
   "attachments": {},
   "cell_type": "markdown",
   "metadata": {
    "slideshow": {
     "slide_type": "subslide"
    }
   },
   "source": [
    "### Simple Introduction Cont.\n",
    "\n",
    "4. `<img src=\"/link/to/image.extension\">`\n",
    "5. `<h1 style=\"color:red;\">Red Title!</h1>`\n",
    "\n",
    "For more information, read: [link](https://www.w3schools.com/html/default.asp)"
   ]
  },
  {
   "attachments": {},
   "cell_type": "markdown",
   "metadata": {
    "slideshow": {
     "slide_type": "subslide"
    }
   },
   "source": [
    "## Practice\n",
    "\n",
    "1. 讓伺服器自己的名字。\n",
    "2. 回傳最高級的標題，字體顏色為藍色。\n"
   ]
  },
  {
   "attachments": {},
   "cell_type": "markdown",
   "metadata": {
    "slideshow": {
     "slide_type": "slide"
    }
   },
   "source": [
    "# Flask Cont."
   ]
  },
  {
   "attachments": {},
   "cell_type": "markdown",
   "metadata": {
    "slideshow": {
     "slide_type": "subslide"
    }
   },
   "source": [
    "## Route & View\n",
    "\n",
    "![](./image/15.png)\n",
    "![](./image/14.png)\n",
    "![](./image/13.png)\n"
   ]
  },
  {
   "attachments": {},
   "cell_type": "markdown",
   "metadata": {
    "slideshow": {
     "slide_type": "fragment"
    }
   },
   "source": [
    "網站上可以有很多頁面(view)，可以通過不同路由(route)存取"
   ]
  },
  {
   "attachments": {},
   "cell_type": "markdown",
   "metadata": {
    "slideshow": {
     "slide_type": "subslide"
    }
   },
   "source": [
    "## Hello Sprout! 2.0\n",
    "\n",
    "https://github.com/namwoam/sprout-material/blob/main/py2023-taipei-flask/src/example-2.py"
   ]
  },
  {
   "attachments": {},
   "cell_type": "markdown",
   "metadata": {
    "slideshow": {
     "slide_type": "subslide"
    }
   },
   "source": [
    "## Different Routes\n",
    "```python\n",
    "@app.route(\"/location\")\n",
    "def location():\n",
    "    return '<iframe src=\"https://www.google.com/maps/embed?pb=!1m18!1m12!1m3!1d3615.4313908491335!2d121.53896767367566!3d25.01943013888124!2m3!1f0!2f0!3f0!3m2!1i1024!2i768!4f13.1!3m3!1m2!1s0x3442aa2669686ea5%3A0x23428906fb6d9683!2z5Y-w5aSn6LOH6KiK5bel56iL6aSo77yI5b6355Sw6aSo77yJ!5e0!3m2!1sen!2stw!4v1684048829466!5m2!1sen!2stw\" width=\"600\" height=\"450\" style=\"border:0;\" allowfullscreen=\"\" loading=\"lazy\" referrerpolicy=\"no-referrer-when-downgrade\"></iframe>'\n",
    "\n",
    "@app.route(\"/price\")\n",
    "def price():\n",
    "    return \"<p>兩個階段都1700</p>\"\n",
    "```"
   ]
  },
  {
   "attachments": {},
   "cell_type": "markdown",
   "metadata": {
    "slideshow": {
     "slide_type": "subslide"
    }
   },
   "source": [
    "## Dynamic Routes\n",
    "```python\n",
    "@app.route(\"/student/<studentName>\")\n",
    "def hello_student(studentName):\n",
    "    return f\"<h1>Hello, {studentName}!</h1>\"\n",
    "```"
   ]
  },
  {
   "attachments": {},
   "cell_type": "markdown",
   "metadata": {
    "slideshow": {
     "slide_type": "subslide"
    }
   },
   "source": [
    "## HTTP parameters\n",
    "```python\n",
    "password = \"bingchilling\"\n",
    "@app.route(\"/secret\")\n",
    "def getSecret():\n",
    "    try:\n",
    "        inputPassword = request.args.get(\"password\")\n",
    "        if password != inputPassword:\n",
    "            raise Exception(\"Password incorrect\")\n",
    "        return \"<h1>我的房子還蠻大的</h1>\"\n",
    "    except Exception as e:\n",
    "        return f\"403 Forbidden : {e}\", 403\n",
    "```"
   ]
  },
  {
   "attachments": {},
   "cell_type": "markdown",
   "metadata": {
    "slideshow": {
     "slide_type": "fragment"
    }
   },
   "source": [
    "`http://{app.host}:{app.port}/secret?password=bingchilling`"
   ]
  },
  {
   "attachments": {},
   "cell_type": "markdown",
   "metadata": {
    "slideshow": {
     "slide_type": "subslide"
    }
   },
   "source": [
    "## HTTP Protocols\n",
    "```python\n",
    "@app.route(\"/secret\")\n",
    "def getSecret():\n",
    "    try:\n",
    "        inputPassword = request.args.get(\"password\")\n",
    "        if password != inputPassword:\n",
    "            raise Exception(\"Password incorrect\")\n",
    "        return \"<h1>我的房子還蠻大的</h1>\"\n",
    "    except Exception as e:\n",
    "        return f\"403 Forbidden : {e}\", 403\n",
    "```\n"
   ]
  },
  {
   "attachments": {},
   "cell_type": "markdown",
   "metadata": {
    "slideshow": {
     "slide_type": "subslide"
    }
   },
   "source": [
    "![](./image/16.png)"
   ]
  },
  {
   "attachments": {},
   "cell_type": "markdown",
   "metadata": {
    "slideshow": {
     "slide_type": "subslide"
    }
   },
   "source": [
    "### Status Code\n",
    "- 200 -> OK\n",
    "- 403 -> Forbidden\n",
    "- 404 -> Not Found\n",
    "- 500 -> Internal Server Error\n",
    "\n",
    "More information: [link](https://developer.mozilla.org/en-US/docs/Web/HTTP/Status#server_error_responses)"
   ]
  },
  {
   "attachments": {},
   "cell_type": "markdown",
   "metadata": {
    "slideshow": {
     "slide_type": "subslide"
    }
   },
   "source": [
    "## Redirect\n",
    "```python\n",
    "@app.route(\"/rick\")\n",
    "def rickroll():\n",
    "    return redirect(\"https://www.youtube.com/watch?v=dQw4w9WgXcQ\")\n",
    "```"
   ]
  },
  {
   "attachments": {},
   "cell_type": "markdown",
   "metadata": {
    "slideshow": {
     "slide_type": "subslide"
    }
   },
   "source": [
    "## Practice\n",
    "1. 建立一個新的 route `traffic`。\n",
    "2. 顯示所有頁面被訪問的次數。"
   ]
  },
  {
   "attachments": {},
   "cell_type": "markdown",
   "metadata": {
    "slideshow": {
     "slide_type": "slide"
    }
   },
   "source": [
    "# Template Response"
   ]
  },
  {
   "attachments": {},
   "cell_type": "markdown",
   "metadata": {
    "slideshow": {
     "slide_type": "subslide"
    }
   },
   "source": [
    "## Before we start\n",
    "\n",
    "1. 建立名為`templates`的資料夾放模板檔案（一字不差！）。"
   ]
  },
  {
   "attachments": {},
   "cell_type": "markdown",
   "metadata": {
    "slideshow": {
     "slide_type": "subslide"
    }
   },
   "source": [
    "## Template\n",
    "\n",
    "```python\n",
    "@app.route(\"/\")\n",
    "def index():\n",
    "    return render_template(\"index.html\")\n",
    "```\n",
    "\n",
    "```html\n",
    "<h1>Hello Sprout!</h1>\n",
    "```"
   ]
  },
  {
   "attachments": {},
   "cell_type": "markdown",
   "metadata": {
    "slideshow": {
     "slide_type": "fragment"
    }
   },
   "source": [
    "邏輯與頁面分離"
   ]
  },
  {
   "attachments": {},
   "cell_type": "markdown",
   "metadata": {},
   "source": [
    "## Hello Jay!\n",
    "\n",
    "https://github.com/namwoam/sprout-material/blob/main/py2023-taipei-flask/src/example-3.py"
   ]
  }
 ],
 "metadata": {
  "kernelspec": {
   "display_name": "sprout",
   "language": "python",
   "name": "python3"
  },
  "language_info": {
   "name": "python",
   "version": "3.11.2"
  },
  "orig_nbformat": 4
 },
 "nbformat": 4,
 "nbformat_minor": 2
}
