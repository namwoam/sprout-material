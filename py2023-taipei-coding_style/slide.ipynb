{
 "cells": [
  {
   "attachments": {},
   "cell_type": "markdown",
   "metadata": {
    "slideshow": {
     "slide_type": "slide"
    }
   },
   "source": [
    "# Python Coding Style & Error Handling\n",
    "資訊之芽 梁安哲 2023/04/23"
   ]
  },
  {
   "attachments": {},
   "cell_type": "markdown",
   "metadata": {
    "slideshow": {
     "slide_type": "slide"
    }
   },
   "source": [
    "# Outline\n",
    "- Coding Style\n",
    "- Error Handling\n",
    "- Common Pitfalls"
   ]
  },
  {
   "attachments": {},
   "cell_type": "markdown",
   "metadata": {
    "slideshow": {
     "slide_type": "slide"
    }
   },
   "source": [
    "# Coding Style"
   ]
  },
  {
   "attachments": {},
   "cell_type": "markdown",
   "metadata": {
    "slideshow": {
     "slide_type": "subslide"
    }
   },
   "source": [
    "![](./image/01.jpg)"
   ]
  },
  {
   "attachments": {},
   "cell_type": "markdown",
   "metadata": {
    "slideshow": {
     "slide_type": "subslide"
    }
   },
   "source": [
    "![](./image/02.jpg)"
   ]
  },
  {
   "attachments": {},
   "cell_type": "markdown",
   "metadata": {
    "slideshow": {
     "slide_type": "subslide"
    }
   },
   "source": [
    "![](./image/03.jpg)"
   ]
  },
  {
   "attachments": {},
   "cell_type": "markdown",
   "metadata": {
    "slideshow": {
     "slide_type": "subslide"
    }
   },
   "source": [
    "## Example\n",
    "\n",
    "你是一位任職於金融公司的電腦工程師，你的上司要你製作一個電腦程式，這個電腦程式的輸入為一支股票的歷史股價，輸出為這支股票的股價在什麼時候處於相對高點（比前一天與後一天都高）。"
   ]
  },
  {
   "attachments": {},
   "cell_type": "markdown",
   "metadata": {
    "slideshow": {
     "slide_type": "subslide"
    }
   },
   "source": [
    "### Your Solution"
   ]
  },
  {
   "attachments": {},
   "cell_type": "markdown",
   "metadata": {
    "slideshow": {
     "slide_type": "subslide"
    }
   },
   "source": [
    "### Bad Solution"
   ]
  },
  {
   "cell_type": "code",
   "execution_count": 11,
   "metadata": {
    "slideshow": {
     "slide_type": "fragment"
    }
   },
   "outputs": [
    {
     "name": "stdout",
     "output_type": "stream",
     "text": [
      "[0, 1, 0, 0, 1]\n"
     ]
    }
   ],
   "source": [
    "targetArray = [1,4,7,2,8,10,4]\n",
    "f = lambda x: [        1 if x[a]>x[a-1] and x[a]>x[a+1]  else 0 for a in range(1, len(x)-1)]\n",
    "print(f(targetArray))"
   ]
  },
  {
   "attachments": {},
   "cell_type": "markdown",
   "metadata": {
    "slideshow": {
     "slide_type": "subslide"
    }
   },
   "source": [
    "### Instructor's Solution"
   ]
  },
  {
   "cell_type": "code",
   "execution_count": 12,
   "metadata": {
    "slideshow": {
     "slide_type": "fragment"
    }
   },
   "outputs": [
    {
     "name": "stdout",
     "output_type": "stream",
     "text": [
      "[0, 1, 0, 0, 1]\n"
     ]
    }
   ],
   "source": [
    "def checkIfExtreme(index , array):\n",
    "    if array[index] > array[index-1] and array[index] > array[index+1]:\n",
    "        return 1\n",
    "    else:\n",
    "        return 0\n",
    "    \n",
    "def getAllExtreme(array):\n",
    "    result = []\n",
    "    for index in range(len(array)):\n",
    "        if index == 0 or index == len(array)-1:\n",
    "            # prevent Index Error\n",
    "            continue\n",
    "        else:\n",
    "            result.append(checkIfExtreme(index , array))\n",
    "    return result\n",
    "\n",
    "print(getAllExtreme(targetArray))"
   ]
  },
  {
   "attachments": {},
   "cell_type": "markdown",
   "metadata": {
    "slideshow": {
     "slide_type": "subslide"
    }
   },
   "source": [
    "## PEP8: Style Guide for Python Code\n",
    "為了讓別人更好的讀懂你的程式，大家約定了一套 Python 程式的撰寫指南 [link](https://peps.python.org/pep-0008/)。\n",
    "\n",
    "不遵守程式說不定還是可以跑，只是大家會覺得你寫一堆屎 code 。"
   ]
  },
  {
   "attachments": {},
   "cell_type": "markdown",
   "metadata": {
    "slideshow": {
     "slide_type": "subslide"
    }
   },
   "source": [
    "### Indentation\n",
    "1. 使用 4 個空格\n",
    "2. 換行對齊"
   ]
  },
  {
   "cell_type": "code",
   "execution_count": 17,
   "metadata": {
    "slideshow": {
     "slide_type": "subslide"
    }
   },
   "outputs": [
    {
     "name": "stdout",
     "output_type": "stream",
     "text": [
      "sprout\n"
     ]
    }
   ],
   "source": [
    "var_one = \"sprout\"\n",
    "var_two = 2023\n",
    "var_three = [\"Python\", \"Taipei\"]\n",
    "var_four = False\n",
    "# Correct:\n",
    "\n",
    "# Add 4 spaces (an extra level of indentation) to distinguish arguments from the rest.\n",
    "\n",
    "def long_function_name(\n",
    "        var_one, var_two, var_three,\n",
    "        var_four):\n",
    "    print(var_one)\n",
    "\n",
    "\n",
    "# Aligned with opening delimiter.\n",
    "foo = long_function_name(var_one, var_two,\n",
    "                         var_three, var_four)"
   ]
  },
  {
   "attachments": {},
   "cell_type": "markdown",
   "metadata": {
    "slideshow": {
     "slide_type": "subslide"
    }
   },
   "source": [
    "### Space"
   ]
  },
  {
   "cell_type": "code",
   "execution_count": 18,
   "metadata": {
    "slideshow": {
     "slide_type": "fragment"
    }
   },
   "outputs": [
    {
     "name": "stdout",
     "output_type": "stream",
     "text": [
      "2 4 15 6 261 4 42 -1748\n"
     ]
    }
   ],
   "source": [
    "i = 1\n",
    "submitted = 3\n",
    "x = 8\n",
    "y = 6\n",
    "a = 4\n",
    "b = 42\n",
    "i = i + 1\n",
    "submitted += 1\n",
    "x = x*2 - 1\n",
    "hypot2 = x*x + y*y\n",
    "c = (a+b) * (a-b)\n",
    "print(i, submitted, x, y, hypot2, a, b, c)"
   ]
  },
  {
   "attachments": {},
   "cell_type": "markdown",
   "metadata": {
    "slideshow": {
     "slide_type": "subslide"
    }
   },
   "source": [
    "### Import"
   ]
  },
  {
   "cell_type": "code",
   "execution_count": null,
   "metadata": {
    "slideshow": {
     "slide_type": "fragment"
    }
   },
   "outputs": [],
   "source": [
    "# Correct:\n",
    "import os\n",
    "import sys\n",
    "from subprocess import Popen, PIPE"
   ]
  },
  {
   "attachments": {},
   "cell_type": "markdown",
   "metadata": {
    "slideshow": {
     "slide_type": "subslide"
    }
   },
   "source": [
    "## Naming Conventions\n",
    "![](./image/04.png)"
   ]
  },
  {
   "attachments": {},
   "cell_type": "markdown",
   "metadata": {
    "slideshow": {
     "slide_type": "subslide"
    }
   },
   "source": [
    "好的變數/函式/類別名稱可以讓別人/未來的自己更容易讀懂現在的程式。"
   ]
  },
  {
   "attachments": {},
   "cell_type": "markdown",
   "metadata": {
    "slideshow": {
     "slide_type": "subslide"
    }
   },
   "source": [
    "- 僅限使用英文字母與底線（數字）\n",
    "- 名稱 = 變數存了什麼資料 / 函式做了什麼事\n",
    "  - `student_scores` 好於 `data`\n",
    "  - `get_distance(x,y)` 好於 `process(x,y)`\n",
    "- 若變數型態為`boolean`，可以嘗試以`is_`、`has_`為開頭。e.g. `is_even`\n",
    "- 命名函數時以動詞為單位。e.g. `download_from_url(url)`\n",
    "- 命名類別時以抽象意義為單位。 e.g `GameObject->Character->Player`"
   ]
  },
  {
   "attachments": {},
   "cell_type": "markdown",
   "metadata": {
    "slideshow": {
     "slide_type": "subslide"
    }
   },
   "source": [
    "- 命名慣例\n",
    "  - Snakecase: `variable_one`（常見於Python）\n",
    "  - Pascalcase: `VariableOne`（常見於Java）\n",
    "  - Camelcase: `variableOne`\n",
    "  - Hungarian Notation: （常見於C#）\n",
    "    - `arrDistrubuteGroup`  Array called \"Distribute Group\"\n",
    "    - `sUserName`           String called \"User Name\"\n",
    "    - `iRandomSeed`         Integer called \"Random Seed\""
   ]
  },
  {
   "attachments": {},
   "cell_type": "markdown",
   "metadata": {
    "slideshow": {
     "slide_type": "subslide"
    }
   },
   "source": [
    "## autopep8\n",
    "https://pypi.org/project/autopep8/"
   ]
  },
  {
   "attachments": {},
   "cell_type": "markdown",
   "metadata": {
    "slideshow": {
     "slide_type": "subslide"
    }
   },
   "source": [
    "View->Command Palette->Format Code\n",
    "![](./image/05.png)"
   ]
  },
  {
   "attachments": {},
   "cell_type": "markdown",
   "metadata": {
    "slideshow": {
     "slide_type": "slide"
    }
   },
   "source": [
    "# Error Handling"
   ]
  },
  {
   "attachments": {},
   "cell_type": "markdown",
   "metadata": {
    "slideshow": {
     "slide_type": "subslide"
    }
   },
   "source": [
    "在程式執行時，有可能遇到各種不可預期的錯誤：\n",
    "1. 除法時以 0 為底數\n",
    "2. 資料型態錯誤\n",
    "3. 存陣列的元素超出範圍\n",
    "6. 遞迴太多次把 Stack 塞滿\n",
    "4. 連不上網路（二階會學到）\n",
    "5. 找不到檔案\n",
    "6. 有一隻飛蛾飛到你的主機板裡面\n",
    "7. 電腦被宇宙射線打到"
   ]
  },
  {
   "attachments": {},
   "cell_type": "markdown",
   "metadata": {
    "slideshow": {
     "slide_type": "subslide"
    }
   },
   "source": [
    "![](./image/06.jpg)"
   ]
  },
  {
   "attachments": {},
   "cell_type": "markdown",
   "metadata": {
    "slideshow": {
     "slide_type": "subslide"
    }
   },
   "source": [
    "理想上，你撰寫的程式應該要能處理這些錯誤，而不是直接強制停止。\n",
    "![](./image/07.jpeg)"
   ]
  },
  {
   "cell_type": "code",
   "execution_count": 1,
   "metadata": {
    "slideshow": {
     "slide_type": "subslide"
    }
   },
   "outputs": [
    {
     "ename": "ZeroDivisionError",
     "evalue": "division by zero",
     "output_type": "error",
     "traceback": [
      "\u001b[0;31m---------------------------------------------------------------------------\u001b[0m",
      "\u001b[0;31mZeroDivisionError\u001b[0m                         Traceback (most recent call last)",
      "Cell \u001b[0;32mIn[1], line 3\u001b[0m\n\u001b[1;32m      1\u001b[0m number_of_student \u001b[39m=\u001b[39m \u001b[39m0\u001b[39m\n\u001b[1;32m      2\u001b[0m total_score \u001b[39m=\u001b[39m \u001b[39m200\u001b[39m\n\u001b[0;32m----> 3\u001b[0m average_score \u001b[39m=\u001b[39m total_score \u001b[39m/\u001b[39;49m number_of_student\n\u001b[1;32m      4\u001b[0m \u001b[39mprint\u001b[39m(average_score)\n",
      "\u001b[0;31mZeroDivisionError\u001b[0m: division by zero"
     ]
    }
   ],
   "source": [
    "number_of_student = 0\n",
    "total_score = 200\n",
    "average_score = total_score / number_of_student\n",
    "print(average_score)"
   ]
  },
  {
   "cell_type": "code",
   "execution_count": 3,
   "metadata": {
    "slideshow": {
     "slide_type": "subslide"
    }
   },
   "outputs": [
    {
     "ename": "TypeError",
     "evalue": "can only concatenate list (not \"int\") to list",
     "output_type": "error",
     "traceback": [
      "\u001b[0;31m---------------------------------------------------------------------------\u001b[0m",
      "\u001b[0;31mTypeError\u001b[0m                                 Traceback (most recent call last)",
      "Cell \u001b[0;32mIn[3], line 3\u001b[0m\n\u001b[1;32m      1\u001b[0m array \u001b[39m=\u001b[39m [\u001b[39m1\u001b[39m, \u001b[39m2\u001b[39m, \u001b[39m3\u001b[39m]\n\u001b[1;32m      2\u001b[0m next_number \u001b[39m=\u001b[39m \u001b[39m4\u001b[39m\n\u001b[0;32m----> 3\u001b[0m \u001b[39mprint\u001b[39m(array \u001b[39m+\u001b[39;49m next_number)\n",
      "\u001b[0;31mTypeError\u001b[0m: can only concatenate list (not \"int\") to list"
     ]
    }
   ],
   "source": [
    "array = [1, 2, 3]\n",
    "next_number = 4\n",
    "print(array + next_number)\n"
   ]
  },
  {
   "attachments": {},
   "cell_type": "markdown",
   "metadata": {
    "slideshow": {
     "slide_type": "subslide"
    }
   },
   "source": [
    "## Try except"
   ]
  },
  {
   "attachments": {},
   "cell_type": "markdown",
   "metadata": {
    "slideshow": {
     "slide_type": "subslide"
    }
   },
   "source": [
    "### Syntax"
   ]
  },
  {
   "cell_type": "code",
   "execution_count": 6,
   "metadata": {
    "slideshow": {
     "slide_type": "fragment"
    }
   },
   "outputs": [
    {
     "name": "stdout",
     "output_type": "stream",
     "text": [
      "Something went wrong!\n",
      "The program is still running\n"
     ]
    }
   ],
   "source": [
    "number_of_student = 0\n",
    "total_score = 200\n",
    "try:\n",
    "    average_score = total_score / number_of_student\n",
    "    print(average_score)\n",
    "except:\n",
    "    print(\"Something went wrong!\")\n",
    "print(\"The program is still running\")\n"
   ]
  },
  {
   "cell_type": "code",
   "execution_count": 12,
   "metadata": {
    "slideshow": {
     "slide_type": "subslide"
    }
   },
   "outputs": [
    {
     "name": "stdout",
     "output_type": "stream",
     "text": [
      "Can't devide by zero!\n",
      "The program is still running\n"
     ]
    }
   ],
   "source": [
    "number_of_student = 0\n",
    "total_score = 200\n",
    "try:\n",
    "    average_score = total_score / number_of_student\n",
    "    print(average_score)\n",
    "except ZeroDivisionError:\n",
    "    print(\"Can't devide by zero!\")\n",
    "except IndexError:\n",
    "    print(\"List index out of range!\")\n",
    "print(\"The program is still running\")"
   ]
  },
  {
   "cell_type": "code",
   "execution_count": 13,
   "metadata": {
    "slideshow": {
     "slide_type": "subslide"
    }
   },
   "outputs": [
    {
     "ename": "ZeroDivisionError",
     "evalue": "division by zero",
     "output_type": "error",
     "traceback": [
      "\u001b[0;31m---------------------------------------------------------------------------\u001b[0m",
      "\u001b[0;31mZeroDivisionError\u001b[0m                         Traceback (most recent call last)",
      "Cell \u001b[0;32mIn[13], line 4\u001b[0m\n\u001b[1;32m      2\u001b[0m total_score \u001b[39m=\u001b[39m \u001b[39m200\u001b[39m\n\u001b[1;32m      3\u001b[0m \u001b[39mtry\u001b[39;00m:\n\u001b[0;32m----> 4\u001b[0m     average_score \u001b[39m=\u001b[39m total_score \u001b[39m/\u001b[39;49m number_of_student\n\u001b[1;32m      5\u001b[0m     \u001b[39mprint\u001b[39m(average_score)\n\u001b[1;32m      6\u001b[0m \u001b[39mexcept\u001b[39;00m \u001b[39mFileNotFoundError\u001b[39;00m:\n",
      "\u001b[0;31mZeroDivisionError\u001b[0m: division by zero"
     ]
    }
   ],
   "source": [
    "number_of_student = 0\n",
    "total_score = 200\n",
    "try:\n",
    "    average_score = total_score / number_of_student\n",
    "    print(average_score)\n",
    "except FileNotFoundError:\n",
    "    print(\"Can't find file\")\n",
    "print(\"The program is still running\")"
   ]
  },
  {
   "attachments": {},
   "cell_type": "markdown",
   "metadata": {
    "slideshow": {
     "slide_type": "subslide"
    }
   },
   "source": [
    "## Some Errors\n",
    "- `IndexError`\n",
    "- `KeyError`\n",
    "- `ArithmeticError`\n",
    "- `RecursionError`\n",
    "- `TypeError`\n",
    "- `SyntaxError` & `IndentationError` try-except 抓不到\n",
    "- `PermissionError` & `ChildProcessError` 跟作業系統有關"
   ]
  },
  {
   "attachments": {},
   "cell_type": "markdown",
   "metadata": {
    "slideshow": {
     "slide_type": "subslide"
    }
   },
   "source": [
    "## Know Your Error"
   ]
  },
  {
   "cell_type": "code",
   "execution_count": null,
   "metadata": {
    "slideshow": {
     "slide_type": "fragment"
    }
   },
   "outputs": [
    {
     "name": "stdout",
     "output_type": "stream",
     "text": [
      "list index out of range <class 'IndexError'>\n"
     ]
    }
   ],
   "source": [
    "try:\n",
    "    array = [1, 2, 3]\n",
    "    print(array[20])\n",
    "except Exception as e:\n",
    "    print(e, type(e))"
   ]
  },
  {
   "attachments": {},
   "cell_type": "markdown",
   "metadata": {
    "slideshow": {
     "slide_type": "subslide"
    }
   },
   "source": [
    "## finally"
   ]
  },
  {
   "cell_type": "code",
   "execution_count": 15,
   "metadata": {
    "slideshow": {
     "slide_type": "fragment"
    }
   },
   "outputs": [
    {
     "name": "stdout",
     "output_type": "stream",
     "text": [
      "Can't devide by zero!\n",
      "The program is still running, done calculation=True\n"
     ]
    }
   ],
   "source": [
    "number_of_student = 0\n",
    "total_score = 200\n",
    "done_calculation = False\n",
    "try:\n",
    "    average_score = total_score / number_of_student\n",
    "    print(average_score)\n",
    "except ZeroDivisionError:\n",
    "    print(\"Can't devide by zero!\")\n",
    "finally:\n",
    "    done_calculation = True\n",
    "print(f\"The program is still running, done calculation={done_calculation}\")"
   ]
  },
  {
   "attachments": {},
   "cell_type": "markdown",
   "metadata": {
    "slideshow": {
     "slide_type": "subslide"
    }
   },
   "source": [
    "## raise"
   ]
  },
  {
   "cell_type": "code",
   "execution_count": 16,
   "metadata": {
    "slideshow": {
     "slide_type": "fragment"
    }
   },
   "outputs": [
    {
     "ename": "ValueError",
     "evalue": "Weight can't be < 0",
     "output_type": "error",
     "traceback": [
      "\u001b[0;31m---------------------------------------------------------------------------\u001b[0m",
      "\u001b[0;31mValueError\u001b[0m                                Traceback (most recent call last)",
      "Cell \u001b[0;32mIn[16], line 4\u001b[0m\n\u001b[1;32m      2\u001b[0m \u001b[39mfor\u001b[39;00m weight \u001b[39min\u001b[39;00m students_weight:\n\u001b[1;32m      3\u001b[0m     \u001b[39mif\u001b[39;00m weight \u001b[39m<\u001b[39m\u001b[39m=\u001b[39m \u001b[39m0\u001b[39m:\n\u001b[0;32m----> 4\u001b[0m         \u001b[39mraise\u001b[39;00m \u001b[39mValueError\u001b[39;00m(\u001b[39m\"\u001b[39m\u001b[39mWeight can\u001b[39m\u001b[39m'\u001b[39m\u001b[39mt be < 0\u001b[39m\u001b[39m\"\u001b[39m)\n",
      "\u001b[0;31mValueError\u001b[0m: Weight can't be < 0"
     ]
    }
   ],
   "source": [
    "students_weight = [60, 50, 75, -20, 80]\n",
    "for weight in students_weight:\n",
    "    if weight <= 0:\n",
    "        raise ValueError(\"Weight can't be < 0\")"
   ]
  },
  {
   "attachments": {},
   "cell_type": "markdown",
   "metadata": {
    "slideshow": {
     "slide_type": "subslide"
    }
   },
   "source": [
    "## assert"
   ]
  },
  {
   "cell_type": "code",
   "execution_count": 4,
   "metadata": {
    "slideshow": {
     "slide_type": "fragment"
    }
   },
   "outputs": [
    {
     "ename": "AssertionError",
     "evalue": "x is smaller than 100",
     "output_type": "error",
     "traceback": [
      "\u001b[0;31m---------------------------------------------------------------------------\u001b[0m",
      "\u001b[0;31mAssertionError\u001b[0m                            Traceback (most recent call last)",
      "Cell \u001b[0;32mIn[4], line 2\u001b[0m\n\u001b[1;32m      1\u001b[0m n \u001b[39m=\u001b[39m \u001b[39m20\u001b[39m\n\u001b[0;32m----> 2\u001b[0m \u001b[39massert\u001b[39;00m n \u001b[39m>\u001b[39m \u001b[39m100\u001b[39m, \u001b[39m\"\u001b[39m\u001b[39mx is smaller than 100\u001b[39m\u001b[39m\"\u001b[39m\n",
      "\u001b[0;31mAssertionError\u001b[0m: x is smaller than 100"
     ]
    }
   ],
   "source": [
    "n = 20\n",
    "assert n > 100, \"x is smaller than 100\""
   ]
  },
  {
   "attachments": {},
   "cell_type": "markdown",
   "metadata": {
    "slideshow": {
     "slide_type": "fragment"
    }
   },
   "source": [
    "Common practice: use assert in development, raise in production."
   ]
  },
  {
   "attachments": {},
   "cell_type": "markdown",
   "metadata": {
    "slideshow": {
     "slide_type": "subslide"
    }
   },
   "source": [
    "## Practice\n",
    "試著用 try-except 重寫一次作業 [3036](https://neoj.sprout.tw/problem/3036)，同時要使用好的變數名稱以及程式結構。\n",
    "\n",
    "嘗試把程式寫對之外，還要易於解釋。（可以講給你隔壁的同學聽，順便找第二階段大作業的組員）"
   ]
  },
  {
   "attachments": {},
   "cell_type": "markdown",
   "metadata": {
    "slideshow": {
     "slide_type": "subslide"
    }
   },
   "source": [
    "### Instructor's Solution\n",
    "\n",
    "哈哈這次沒解答 :)"
   ]
  },
  {
   "attachments": {},
   "cell_type": "markdown",
   "metadata": {
    "slideshow": {
     "slide_type": "slide"
    }
   },
   "source": [
    "# Common Pitfalls / Best Practice"
   ]
  },
  {
   "attachments": {},
   "cell_type": "markdown",
   "metadata": {
    "slideshow": {
     "slide_type": "subslide"
    }
   },
   "source": [
    "## Logical (https://neoj.sprout.tw/problem/3109/)"
   ]
  },
  {
   "cell_type": "code",
   "execution_count": null,
   "metadata": {
    "slideshow": {
     "slide_type": "subslide"
    }
   },
   "outputs": [],
   "source": [
    "n = int(input())\n",
    "for i in range(n):\n",
    "    word = input()\n",
    "    L = len(word)\n",
    "    if word.isalpha():\n",
    "        new_word = word.lower()\n",
    "        if new_word[0:int(L/2):1] == new_word[-1:int(L/2):-1]:\n",
    "            print(\"Za Warudo!!\")\n",
    "        else:\n",
    "            print(\"ROADO ROLLA DA!!\")\n",
    "    else:\n",
    "        text = []\n",
    "        for i in word:\n",
    "            if i.isalpha():\n",
    "                j = i.lower()\n",
    "                text.append(j)\n",
    "            else:\n",
    "                pass\n",
    "        new_L = len(text)\n",
    "        \n",
    "        if text == text[::-1]:\n",
    "            print(\"Za Warudo!!\")\n",
    "        else:\n",
    "            print(\"ROADO ROLLA DA!!\")"
   ]
  },
  {
   "attachments": {},
   "cell_type": "markdown",
   "metadata": {
    "slideshow": {
     "slide_type": "subslide"
    }
   },
   "source": [
    "## Naming Variables (https://neoj.sprout.tw/problem/3036/)"
   ]
  },
  {
   "cell_type": "code",
   "execution_count": null,
   "metadata": {
    "slideshow": {
     "slide_type": "subslide"
    }
   },
   "outputs": [],
   "source": [
    "n=int(input())\n",
    "dict={}\n",
    "for i in range(n):\n",
    "    x=input().split()\n",
    "    if x[0]==\"1\":\n",
    "        if x[1] in dict:\n",
    "            print(\"Failed\")\n",
    "\n",
    "        else:\n",
    "            dict[x[1]]=x[2]\n",
    "            print(\"Success\")\n",
    "\n",
    "    elif x[0]==\"2\":\n",
    "        if x[1] in dict:\n",
    "            dict.pop(x[1])\n",
    "            print(\"Success\")\n",
    "        else:\n",
    "            print(\"Failed\")\n",
    "\n",
    "    elif x[0]==\"3\":\n",
    "        if len(dict)==0:\n",
    "            print(\"Failed\")\n",
    "        else:\n",
    "            dict.popitem()\n",
    "            print(\"Success\")\n",
    "\n",
    "    elif x[0]==\"4\":\n",
    "        if x[1] in dict:\n",
    "            print(dict[x[1]])\n",
    "        else:\n",
    "            print(\"Failed\")\n",
    "\n",
    "    elif x[0]==\"5\":\n",
    "        a=0\n",
    "        for  i in dict.keys():\n",
    "            if x[1] == dict[i]:\n",
    "                print(i)\n",
    "                a=3\n",
    "        if a==0:\n",
    "            print(\"None\")\n",
    "\n",
    "    elif x[0]==\"6\":\n",
    "        if x[1] in dict:\n",
    "            dict[x[1]]=x[2]\n",
    "            print(\"Success\")\n",
    "        else:\n",
    "            print(\"Failed\")\n",
    "\n",
    "    elif x[0]==\"7\":\n",
    "        if len(dict)>0:\n",
    "            k=list(dict.items())\n",
    "            k.sort()\n",
    "            for i in k:\n",
    "                print(*i)\n",
    "\n",
    "    elif x[0]==\"8\":\n",
    "        print(len(dict))\n",
    "\n",
    "    elif x[0]==\"9\":\n",
    "        dict.clear()"
   ]
  },
  {
   "attachments": {},
   "cell_type": "markdown",
   "metadata": {
    "slideshow": {
     "slide_type": "subslide"
    }
   },
   "source": [
    "## Separation of concerns (https://neoj.sprout.tw/problem/3108/)"
   ]
  },
  {
   "cell_type": "code",
   "execution_count": null,
   "metadata": {
    "slideshow": {
     "slide_type": "subslide"
    }
   },
   "outputs": [],
   "source": [
    "def average(lst):\n",
    "    return sum(lst) / len(lst)\n",
    "def stddev(lst):\n",
    "    ave = average(lst)\n",
    "    return (sum((x - ave)**2 for x in lst) / len(lst))**.5\n",
    "students = {}\n",
    "subjects = {}\n",
    "n = int(input())\n",
    "for _ in range(n):\n",
    "    name, subject, score = input().split()\n",
    "    score = float(score)\n",
    "    students.setdefault(name, {})\n",
    "    students[name][subject] = score\n",
    "    subjects.setdefault(subject, {})\n",
    "    subjects[subject][name] = score\n",
    "q = int(input())\n",
    "for _ in range(q):\n",
    "    s = input().split()\n",
    "    op = s[0]\n",
    "    if op == '1':\n",
    "        name = s[1]\n",
    "        subject = s[2]\n",
    "        print(round(students[name][subject], 2))\n",
    "    elif op == '2':\n",
    "        name = s[1]\n",
    "        scores = students[name].values()\n",
    "        print(round(average(scores), 2))\n",
    "    elif op == '3':\n",
    "        subject = s[1]\n",
    "        scores = subjects[subject].values()\n",
    "        print(round(average(scores), 2), round(stddev(scores), 2))\n",
    "    elif op == '4':\n",
    "        subject = s[1]\n",
    "        r = int(s[2])\n",
    "        lst = []\n",
    "        for tu in subjects[subject].items():\n",
    "            lst.append((tu[1], tu[0]))\n",
    "        lst.sort(reverse=True)\n",
    "        print(lst[r-1][1])\n",
    "    elif op == '5':\n",
    "        r = int(s[1])\n",
    "        lst = []\n",
    "        for item in students.items():\n",
    "            lst.append((average(list(item[1].values())), item[0]))\n",
    "        lst.sort(reverse=True)\n",
    "        print(lst[r-1][1])\n",
    "    elif op == '6':\n",
    "        for name in sorted(list(students.keys())):\n",
    "            print(name, end='')\n",
    "            dic = students[name]\n",
    "            for subject in sorted(list(dic.keys())):\n",
    "                print(' {}:{}'.format(subject, round(dic[subject], 2)), end='')\n",
    "            print()"
   ]
  },
  {
   "attachments": {},
   "cell_type": "markdown",
   "metadata": {
    "slideshow": {
     "slide_type": "subslide"
    }
   },
   "source": [
    "## Commenting"
   ]
  },
  {
   "cell_type": "code",
   "execution_count": null,
   "metadata": {
    "slideshow": {
     "slide_type": "subslide"
    }
   },
   "outputs": [],
   "source": [
    "n= int(input())\n",
    "listowo={}\n",
    "count=0\n",
    "documentta=[]\n",
    "for i in range(n):\n",
    "    inputs=input().split()\n",
    "    op=int(inputs[0])\n",
    "    if op==1:\n",
    "        #插入key a，value為b 。如果已經存在key ，就印出\"Failed\"就好（不用更改value），不然插入後印出\"Success\"。\n",
    "        key1=inputs[1]\n",
    "        if key1 in listowo:\n",
    "            print(\"Failed\")\n",
    "        else:\n",
    "            listowo[key1] = inputs[2]\n",
    "            print(\"Success\")\n",
    "            documentta.insert(count, key1)\n",
    "            #print(documentta)\n",
    "    elif op==2:\n",
    "        # 刪除key 和他對應的value。如果key 不存在，印出\"Failed\"，不然刪除後印出\"Success\"。\n",
    "        key1=inputs[1]\n",
    "        if key1 not in listowo:\n",
    "            print(\"Failed\")\n",
    "        else:\n",
    "            listowo.pop(key1)\n",
    "            print(\"Success\")\n",
    "            if key1 in documentta:\n",
    "                documentta.remove(key1)\n",
    "            #print(documentta)\n",
    "    elif op==3:\n",
    "        #在目前還存在的key中刪除最晚插入的那一個。如果dict是空的，印出\"Failed\"，不然刪除後印出\"Success\"。\n",
    "        if documentta==[]:\n",
    "            print(\"Failed\")\n",
    "        else:\n",
    "            listowo.pop(documentta[-1])\n",
    "            del documentta[-1]\n",
    "            print(\"Success\")\n",
    "    elif op==4: #目前只debug到第三行\n",
    "        # 印出key a對應到的value。如果key a 不存在，印出\"Failed\"。\n",
    "        key1=inputs[1]\n",
    "        if key1 not in listowo:\n",
    "            print(\"Failed\")\n",
    "        else:\n",
    "            print(listowo[key1])\n",
    "    elif op==5:\n",
    "         #照字典序印出所有value為a的key，每行一個。如果沒有任何一個key的value是 a，印出\"None\"。注意到是\"None\"，不是\"Failed”哦。\n",
    "        key1=inputs[1]\n",
    "        if key1 not in listowo.values():\n",
    "            print(\"None\")\n",
    "        else:\n",
    "            for i in listowo:\n",
    "                if listowo[i]==key1:\n",
    "                    print(i)\n",
    "    elif op==6:\n",
    "        # ab將key為a對應到的value改成b。如果key a不存在，印出\"Failed\"，不然改完後印出\"Success\"。\n",
    "        key1=inputs[1]\n",
    "        if key1 not in listowo:\n",
    "            print(\"Failed\")\n",
    "        else:\n",
    "            listowo[key1]=inputs[2]\n",
    "            print(\"Success\")\n",
    "    elif op==7:\n",
    "        #照key的字典序印出所有的\"key value\"（中間空白），每行一組\n",
    "        ans=list(listowo.items()) #如果像提示一樣ans=[list1.items()]會將list1.items(dict)放進list 中，但是我們是要將\n",
    "            #這個變成list\n",
    "        ans.sort() # 把（key, value）當成tuple放進來\n",
    "        for key, value in ans:\n",
    "            print(key, value)\n",
    "    elif op==8:\n",
    "        print(len(listowo))\n",
    "    elif op==9:\n",
    "        listowo.clear()\n",
    "        documentta=[]\n",
    "    count+=1"
   ]
  },
  {
   "attachments": {},
   "cell_type": "markdown",
   "metadata": {
    "slideshow": {
     "slide_type": "slide"
    }
   },
   "source": [
    "# 恭喜，你的 Code 自己也看得懂了。\n",
    "![](./image/08.jpg)"
   ]
  }
 ],
 "metadata": {
  "kernelspec": {
   "display_name": "sprout",
   "language": "python",
   "name": "python3"
  },
  "language_info": {
   "codemirror_mode": {
    "name": "ipython",
    "version": 3
   },
   "file_extension": ".py",
   "mimetype": "text/x-python",
   "name": "python",
   "nbconvert_exporter": "python",
   "pygments_lexer": "ipython3",
   "version": "3.11.2"
  },
  "orig_nbformat": 4
 },
 "nbformat": 4,
 "nbformat_minor": 2
}
