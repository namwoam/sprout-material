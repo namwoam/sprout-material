{
 "cells": [
  {
   "attachments": {},
   "cell_type": "markdown",
   "metadata": {
    "slideshow": {
     "slide_type": "slide"
    }
   },
   "source": [
    "# Python Coding Style & Error Handling\n",
    "資訊之芽 梁安哲 2023/04/23"
   ]
  },
  {
   "attachments": {},
   "cell_type": "markdown",
   "metadata": {
    "slideshow": {
     "slide_type": "slide"
    }
   },
   "source": [
    "# Outline\n",
    "- Coding Style\n",
    "- Error Handling\n",
    "- Common Pitfalls\n",
    "- Additional Information"
   ]
  },
  {
   "attachments": {},
   "cell_type": "markdown",
   "metadata": {
    "slideshow": {
     "slide_type": "slide"
    }
   },
   "source": [
    "# Coding Style"
   ]
  },
  {
   "attachments": {},
   "cell_type": "markdown",
   "metadata": {
    "slideshow": {
     "slide_type": "subslide"
    }
   },
   "source": [
    "![](./image/01.jpg)"
   ]
  },
  {
   "attachments": {},
   "cell_type": "markdown",
   "metadata": {
    "slideshow": {
     "slide_type": "subslide"
    }
   },
   "source": [
    "![](./image/02.jpg)"
   ]
  },
  {
   "attachments": {},
   "cell_type": "markdown",
   "metadata": {
    "slideshow": {
     "slide_type": "subslide"
    }
   },
   "source": [
    "![](./image/03.jpg)"
   ]
  },
  {
   "attachments": {},
   "cell_type": "markdown",
   "metadata": {
    "slideshow": {
     "slide_type": "subslide"
    }
   },
   "source": [
    "## Example\n",
    "\n",
    "你是一位任職於金融公司的電腦工程師，你的上司要你製作一個電腦程式，這個電腦程式的輸入為一支股票的歷史股價，輸出為這支股票的股價在什麼時候處於相對高點（比前一天與後一天都高）。"
   ]
  },
  {
   "attachments": {},
   "cell_type": "markdown",
   "metadata": {
    "slideshow": {
     "slide_type": "subslide"
    }
   },
   "source": [
    "### Your Solution"
   ]
  },
  {
   "attachments": {},
   "cell_type": "markdown",
   "metadata": {
    "slideshow": {
     "slide_type": "subslide"
    }
   },
   "source": [
    "### Bad Solution"
   ]
  },
  {
   "cell_type": "code",
   "execution_count": 11,
   "metadata": {
    "slideshow": {
     "slide_type": "fragment"
    }
   },
   "outputs": [
    {
     "name": "stdout",
     "output_type": "stream",
     "text": [
      "[0, 1, 0, 0, 1]\n"
     ]
    }
   ],
   "source": [
    "targetArray = [1,4,7,2,8,10,4]\n",
    "f = lambda x: [        1 if x[a]>x[a-1] and x[a]>x[a+1]  else 0 for a in range(1, len(x)-1)]\n",
    "print(f(targetArray))"
   ]
  },
  {
   "attachments": {},
   "cell_type": "markdown",
   "metadata": {
    "slideshow": {
     "slide_type": "subslide"
    }
   },
   "source": [
    "### Instructor's Solution"
   ]
  },
  {
   "cell_type": "code",
   "execution_count": 12,
   "metadata": {
    "slideshow": {
     "slide_type": "fragment"
    }
   },
   "outputs": [
    {
     "name": "stdout",
     "output_type": "stream",
     "text": [
      "[0, 1, 0, 0, 1]\n"
     ]
    }
   ],
   "source": [
    "def checkIfExtreme(index , array):\n",
    "    if array[index] > array[index-1] and array[index] > array[index+1]:\n",
    "        return 1\n",
    "    else:\n",
    "        return 0\n",
    "    \n",
    "def getAllExtreme(array):\n",
    "    result = []\n",
    "    for index in range(len(array)):\n",
    "        if index == 0 or index == len(array)-1:\n",
    "            # prevent Index Error\n",
    "            continue\n",
    "        else:\n",
    "            result.append(checkIfExtreme(index , array))\n",
    "    return result\n",
    "\n",
    "print(getAllExtreme(targetArray))"
   ]
  },
  {
   "attachments": {},
   "cell_type": "markdown",
   "metadata": {
    "slideshow": {
     "slide_type": "subslide"
    }
   },
   "source": [
    "## PEP8: Style Guide for Python Code\n",
    "為了讓別人更好的讀懂你的程式，大家約定了一套 Python 程式的撰寫指南 [link](https://peps.python.org/pep-0008/)。\n",
    "\n",
    "不遵守程式說不定還是可以跑，只是大家會覺得你寫一堆屎 code 。"
   ]
  },
  {
   "attachments": {},
   "cell_type": "markdown",
   "metadata": {
    "slideshow": {
     "slide_type": "subslide"
    }
   },
   "source": [
    "### Indentation\n",
    "1. 使用 4 個空格\n",
    "2. 換行對齊"
   ]
  },
  {
   "cell_type": "code",
   "execution_count": 17,
   "metadata": {
    "slideshow": {
     "slide_type": "subslide"
    }
   },
   "outputs": [
    {
     "name": "stdout",
     "output_type": "stream",
     "text": [
      "sprout\n"
     ]
    }
   ],
   "source": [
    "var_one = \"sprout\"\n",
    "var_two = 2023\n",
    "var_three = [\"Python\", \"Taipei\"]\n",
    "var_four = False\n",
    "# Correct:\n",
    "\n",
    "# Add 4 spaces (an extra level of indentation) to distinguish arguments from the rest.\n",
    "\n",
    "def long_function_name(\n",
    "        var_one, var_two, var_three,\n",
    "        var_four):\n",
    "    print(var_one)\n",
    "\n",
    "\n",
    "# Aligned with opening delimiter.\n",
    "foo = long_function_name(var_one, var_two,\n",
    "                         var_three, var_four)"
   ]
  },
  {
   "attachments": {},
   "cell_type": "markdown",
   "metadata": {
    "slideshow": {
     "slide_type": "subslide"
    }
   },
   "source": [
    "### Space"
   ]
  },
  {
   "cell_type": "code",
   "execution_count": 18,
   "metadata": {
    "slideshow": {
     "slide_type": "fragment"
    }
   },
   "outputs": [
    {
     "name": "stdout",
     "output_type": "stream",
     "text": [
      "2 4 15 6 261 4 42 -1748\n"
     ]
    }
   ],
   "source": [
    "i = 1\n",
    "submitted = 3\n",
    "x = 8\n",
    "y = 6\n",
    "a = 4\n",
    "b = 42\n",
    "i = i + 1\n",
    "submitted += 1\n",
    "x = x*2 - 1\n",
    "hypot2 = x*x + y*y\n",
    "c = (a+b) * (a-b)\n",
    "print(i, submitted, x, y, hypot2, a, b, c)"
   ]
  },
  {
   "attachments": {},
   "cell_type": "markdown",
   "metadata": {
    "slideshow": {
     "slide_type": "subslide"
    }
   },
   "source": [
    "### Import"
   ]
  },
  {
   "cell_type": "code",
   "execution_count": null,
   "metadata": {
    "slideshow": {
     "slide_type": "fragment"
    }
   },
   "outputs": [],
   "source": [
    "# Correct:\n",
    "import os\n",
    "import sys\n",
    "from subprocess import Popen, PIPE"
   ]
  },
  {
   "attachments": {},
   "cell_type": "markdown",
   "metadata": {
    "slideshow": {
     "slide_type": "subslide"
    }
   },
   "source": [
    "## Naming Conventions\n",
    "![](./image/04.png)"
   ]
  },
  {
   "attachments": {},
   "cell_type": "markdown",
   "metadata": {
    "slideshow": {
     "slide_type": "subslide"
    }
   },
   "source": [
    "好的變數/函式/類別名稱可以讓別人/未來的自己更容易讀懂現在的程式。"
   ]
  },
  {
   "attachments": {},
   "cell_type": "markdown",
   "metadata": {
    "slideshow": {
     "slide_type": "subslide"
    }
   },
   "source": [
    "- 僅限使用英文字母與底線（數字）\n",
    "- 名稱 = 變數存了什麼資料 / 函式做了什麼事\n",
    "  - `student_scores` 好於 `data`\n",
    "  - `get_distance(x,y)` 好於 `process(x,y)`\n",
    "- 若變數型態為`boolean`，可以嘗試以`is_`、`has_`為開頭。e.g. `is_even`\n",
    "- 命名函數時以動詞為單位。e.g. `download_from_url(url)`\n",
    "- 命名類別時以抽象意義為單位。 e.g `GameObject->Character->Player`"
   ]
  },
  {
   "attachments": {},
   "cell_type": "markdown",
   "metadata": {
    "slideshow": {
     "slide_type": "subslide"
    }
   },
   "source": [
    "- 命名慣例\n",
    "  - Snakecase: `variable_one`（常見於Python）\n",
    "  - Pascalcase: `VariableOne`（常見於Java）\n",
    "  - Camelcase: `variableOne`\n",
    "  - Hungarian Notation: （常見於C#）\n",
    "    - `arrDistrubuteGroup`  Array called \"Distribute Group\"\n",
    "    - `sUserName`           String called \"User Name\"\n",
    "    - `iRandomSeed`         Integer called \"Random Seed\""
   ]
  },
  {
   "attachments": {},
   "cell_type": "markdown",
   "metadata": {
    "slideshow": {
     "slide_type": "subslide"
    }
   },
   "source": [
    "## autopep8\n",
    "https://pypi.org/project/autopep8/"
   ]
  },
  {
   "attachments": {},
   "cell_type": "markdown",
   "metadata": {
    "slideshow": {
     "slide_type": "subslide"
    }
   },
   "source": [
    "View->Command Palette->Format Code\n",
    "![](./image/05.png)"
   ]
  },
  {
   "attachments": {},
   "cell_type": "markdown",
   "metadata": {
    "slideshow": {
     "slide_type": "slide"
    }
   },
   "source": [
    "# Error Handling"
   ]
  }
 ],
 "metadata": {
  "kernelspec": {
   "display_name": "sprout",
   "language": "python",
   "name": "python3"
  },
  "language_info": {
   "codemirror_mode": {
    "name": "ipython",
    "version": 3
   },
   "file_extension": ".py",
   "mimetype": "text/x-python",
   "name": "python",
   "nbconvert_exporter": "python",
   "pygments_lexer": "ipython3",
   "version": "3.11.2"
  },
  "orig_nbformat": 4
 },
 "nbformat": 4,
 "nbformat_minor": 2
}
