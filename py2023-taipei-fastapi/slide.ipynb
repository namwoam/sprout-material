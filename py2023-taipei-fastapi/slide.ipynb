{
 "cells": [
  {
   "attachments": {},
   "cell_type": "markdown",
   "metadata": {},
   "source": [
    "# Python FastAPI\n",
    "資訊之芽 梁安哲 2023/05/21"
   ]
  },
  {
   "attachments": {},
   "cell_type": "markdown",
   "metadata": {},
   "source": [
    "# Outline\n",
    "- Internet Basics\n",
    "- FastAPI Introduction\n",
    "- Async Function\n",
    "- Path & Query Parameters\n",
    "- Template Response\n",
    "- SQL Database\n",
    "- Request\n",
    "- Additional Information"
   ]
  }
 ],
 "metadata": {
  "kernelspec": {
   "display_name": "sprout",
   "language": "python",
   "name": "python3"
  },
  "language_info": {
   "name": "python",
   "version": "3.11.2"
  },
  "orig_nbformat": 4
 },
 "nbformat": 4,
 "nbformat_minor": 2
}
