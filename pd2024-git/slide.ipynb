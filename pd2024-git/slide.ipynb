{
 "cells": [
  {
   "cell_type": "markdown",
   "metadata": {
    "slideshow": {
     "slide_type": "slide"
    }
   },
   "source": [
    "# Git & GitHub\n",
    "2024 IM1003 Programming Design TA Workshop 梁安哲 2024/11/28"
   ]
  },
  {
   "cell_type": "markdown",
   "metadata": {
    "slideshow": {
     "slide_type": "slide"
    }
   },
   "source": [
    "## Introduction"
   ]
  },
  {
   "cell_type": "markdown",
   "metadata": {
    "slideshow": {
     "slide_type": "subslide"
    }
   },
   "source": [
    "### 何謂 \"版本控制？\"\n",
    "\n",
    "大家在寫程式的時候，會隨著開發的進度，不停改動程式碼\n",
    "\n",
    "![](./image/1-s.png)"
   ]
  },
  {
   "cell_type": "markdown",
   "metadata": {
    "slideshow": {
     "slide_type": "subslide"
    }
   },
   "source": [
    "### 一個常見的 PD 作業流程圖\n",
    "\n",
    "![](./out/diagram/1/1-s.png)"
   ]
  },
  {
   "cell_type": "markdown",
   "metadata": {
    "slideshow": {
     "slide_type": "subslide"
    }
   },
   "source": [
    "### 各種管理問題\n",
    "\n",
    "1. 如何維護第一到第七版程式？\n",
    "2. 如何檢視第一到第七版程式的變化？\n",
    "3. 如果電腦突然壞掉，怎麼拿回程式的備份？\n",
    "4. 如果很多人一起寫一份大作業，怎麼紀錄每個人更改了哪些部分？\n",
    "5. 如果很多人一起寫一份大作業，怎麼紀錄每個人更改的部分相容？\n",
    "6. 如果你的程式是一項賣錢的產品，如何自動把程式交貨到使用者手上？\n",
    "\n",
    "...族繁不及備載"
   ]
  },
  {
   "cell_type": "markdown",
   "metadata": {
    "slideshow": {
     "slide_type": "subslide"
    }
   },
   "source": [
    "### 版本管理工具\n",
    "\n",
    "以 Git 最為廣為使用，是現代軟體工程師的基本工具（之一）。\n",
    "\n",
    "![](./image/3.png)"
   ]
  },
  {
   "cell_type": "markdown",
   "metadata": {
    "slideshow": {
     "slide_type": "slide"
    }
   },
   "source": [
    "## Preparation"
   ]
  },
  {
   "cell_type": "markdown",
   "metadata": {
    "slideshow": {
     "slide_type": "subslide"
    }
   },
   "source": [
    "### 安裝 Git\n",
    "\n",
    "- [Windows](https://git-scm.com/downloads/win) （超級麻煩，各助教請加油）\n",
    "- macOS `brew install git`\n",
    "- Ubuntu `sudo apt get git`"
   ]
  },
  {
   "cell_type": "markdown",
   "metadata": {
    "slideshow": {
     "slide_type": "subslide"
    }
   },
   "source": [
    "### 驗證安裝成功\n",
    "\n",
    "安裝完成之後，在 terminal 輸入 `git -v` 應該要能得到類似下圖的輸出\n",
    "\n",
    "![](./image/5.png)"
   ]
  },
  {
   "cell_type": "markdown",
   "metadata": {
    "slideshow": {
     "slide_type": "subslide"
    },
    "vscode": {
     "languageId": "plaintext"
    }
   },
   "source": [
    "### 下載課程資料\n",
    "\n",
    "在 terminal 輸入 `git clone https://github.com/namwoam/git-workshop.git`"
   ]
  },
  {
   "cell_type": "markdown",
   "metadata": {
    "slideshow": {
     "slide_type": "subslide"
    }
   },
   "source": [
    "### 重置 repository\n",
    "\n",
    "repository 是 git 管理程式碼的界線，可以想像成專案的單位\n",
    "\n",
    "在 `git-workshop` 輸入 `git reset --hard 28eea111f8e3b1e4d04e6aed5ecafa246690ab14`\n",
    "\n",
    "你的資料夾應該要長得像這樣\n",
    "\n",
    "![](./image/6.png)"
   ]
  },
  {
   "cell_type": "markdown",
   "metadata": {
    "slideshow": {
     "slide_type": "slide"
    }
   },
   "source": [
    "## Git add & commit"
   ]
  },
  {
   "cell_type": "markdown",
   "metadata": {
    "slideshow": {
     "slide_type": "subslide"
    },
    "vscode": {
     "languageId": "plaintext"
    }
   },
   "source": [
    "### 指令們\n",
    "\n",
    "- `git add <filename>` 或 `git add .` 會讓 git 追蹤該檔案的更動\n",
    "- `git commit -m <message>` 會讓 git 紀錄所有檔案的變動，此次變動會以 *message* 標記"
   ]
  },
  {
   "cell_type": "markdown",
   "metadata": {
    "slideshow": {
     "slide_type": "subslide"
    }
   },
   "source": [
    "### File status 示意圖\n",
    "![](./image/7.png)"
   ]
  },
  {
   "cell_type": "markdown",
   "metadata": {
    "slideshow": {
     "slide_type": "subslide"
    },
    "vscode": {
     "languageId": "plaintext"
    }
   },
   "source": [
    "### Commit history 示意圖\n",
    "![](./image/8.png)"
   ]
  },
  {
   "cell_type": "markdown",
   "metadata": {
    "slideshow": {
     "slide_type": "subslide"
    }
   },
   "source": [
    "### 新增檔案\n",
    "新增一個 `main.cpp`\n",
    "```cpp\n",
    "#include <iostream>\n",
    "int main(){\n",
    "    std::cout << \"Hello 超級貓貓男!\" << std::endl;\n",
    "    return 0;\n",
    "}\n",
    "```"
   ]
  },
  {
   "cell_type": "markdown",
   "metadata": {
    "slideshow": {
     "slide_type": "subslide"
    }
   },
   "source": [
    "### 紀錄變更\n",
    "依序執行以下指令：\n",
    "1. `git add main.cpp` 紀錄 `main.cpp` 的更動\n",
    "2. `git commit -m \"add: add main.cpp\"` 提交更動"
   ]
  },
  {
   "cell_type": "markdown",
   "metadata": {
    "slideshow": {
     "slide_type": "subslide"
    }
   },
   "source": [
    "### 查看變更\n",
    "在 VS Code 右側的 Source Control 應該會看到如下圖的 commit history\n",
    "\n",
    "![](./image/10.png)"
   ]
  },
  {
   "cell_type": "markdown",
   "metadata": {
    "slideshow": {
     "slide_type": "slide"
    }
   },
   "source": [
    "## Git branch & merge"
   ]
  },
  {
   "cell_type": "markdown",
   "metadata": {
    "slideshow": {
     "slide_type": "subslide"
    }
   },
   "source": [
    "### 指令們\n",
    "\n",
    "- `git branch <branch-name>` 新增一個名為 *branch-name* 的分支\n",
    "- `git checkout <branch-name>` 切換到 *branch-name* 的分支\n",
    "- `git merge <branch-name>` 把 *branch-name* 上面的改動合併到現在的分支上\n"
   ]
  },
  {
   "cell_type": "markdown",
   "metadata": {
    "slideshow": {
     "slide_type": "subslide"
    }
   },
   "source": [
    "### Merge 示意圖\n",
    "\n",
    "![](./image/11.png)"
   ]
  },
  {
   "cell_type": "markdown",
   "metadata": {
    "slideshow": {
     "slide_type": "subslide"
    }
   },
   "source": [
    "### Dev branch\n",
    "\n",
    "依序執行\n",
    "1. `git branch dev` 會提示已經有該分支，因為我已經建好了\n",
    "2. `git checkout dev` 切換到 `dev` 分支\n",
    "3. `git reset --hard d868cfd07ed06faead9e4057f5b684df987e8509` 把 `dev` 分支還原"
   ]
  },
  {
   "cell_type": "markdown",
   "metadata": {
    "slideshow": {
     "slide_type": "subslide"
    },
    "vscode": {
     "languageId": "plaintext"
    }
   },
   "source": [
    "### 修改檔案\n",
    "繼續執行\n",
    "3. 修改 `main.cpp`\n",
    "```cpp\n",
    "#include <iostream>\n",
    "\n",
    "int multiply(int a, int b)\n",
    "{\n",
    "    return a * b;\n",
    "}\n",
    "\n",
    "int main()\n",
    "{\n",
    "    std::cout << \"Hello 超級貓貓男!\" << std::endl;\n",
    "    std::cout << \"5 * 6 = \" << multiply(5, 6) << std::endl;\n",
    "    return 0;\n",
    "}\n",
    "```\n",
    "4. `git add main.cpp` 紀錄檔案更動\n",
    "5. `git commit -m \"add: add multiply function\"` 提交更動"
   ]
  },
  {
   "cell_type": "markdown",
   "metadata": {
    "slideshow": {
     "slide_type": "subslide"
    },
    "vscode": {
     "languageId": "plaintext"
    }
   },
   "source": [
    "### 查看變更\n",
    "在 VS Code 右側的 Source Control 應該會看到如下圖的 commit history\n",
    "\n",
    "![](./image/13.png)"
   ]
  },
  {
   "cell_type": "markdown",
   "metadata": {
    "slideshow": {
     "slide_type": "subslide"
    }
   },
   "source": [
    "### 合併分支\n",
    "\n",
    "依序執行\n",
    "1. `git checkout main` 切換到 `main` 分支\n",
    "2. `git merge dev` 將 `dev` 分支上的改動合併到 `main` 裡"
   ]
  },
  {
   "cell_type": "markdown",
   "metadata": {
    "slideshow": {
     "slide_type": "slide"
    }
   },
   "source": [
    "## GitHub"
   ]
  },
  {
   "cell_type": "markdown",
   "metadata": {
    "slideshow": {
     "slide_type": "subslide"
    }
   },
   "source": [
    "### GitHub 和 Git 有什麼不一樣\n",
    "\n",
    "GitHub 是一項由 Microsoft 提供的網路服務，會幫你管理 git repository 。可以免費在[官網](https://github.com/)註冊新帳號。\n"
   ]
  },
  {
   "cell_type": "markdown",
   "metadata": {
    "slideshow": {
     "slide_type": "subslide"
    }
   },
   "source": [
    "### 創建新的 Repository\n",
    "\n",
    "點選綠色的 *new* 按鈕。\n",
    "\n",
    "![](./image/14-s.png)"
   ]
  },
  {
   "cell_type": "markdown",
   "metadata": {
    "slideshow": {
     "slide_type": "subslide"
    }
   },
   "source": [
    "### 下載 GitHub Desktop\n",
    "\n",
    "[下載連結（支援 Windows 和 macOS ）](https://github.com/apps/desktop) \n",
    "\n",
    "開啟之後介面會長這樣\n",
    "\n",
    "![](./image/15.png)\n",
    "\n",
    "可以在左上角 `Add->Clone Repository` 裡選擇剛剛創建的 repository ，下載到電腦裡，然後用 VS Code 開啟。"
   ]
  },
  {
   "cell_type": "markdown",
   "metadata": {
    "slideshow": {
     "slide_type": "subslide"
    }
   },
   "source": [
    "### 常用指令\n",
    "\n",
    "- `git pull` 把 GitHub 上的更動更新到自己的電腦裡\n",
    "- `git push` 把自己電腦裡的更動更新到 GitHub 上\n",
    "- `git push --force` 強制把自己電腦裡的更動更新到 GitHub 上\n",
    "- `git reset --hard` 把 repository 回復到上一個 commit 的狀態"
   ]
  },
  {
   "cell_type": "markdown",
   "metadata": {
    "slideshow": {
     "slide_type": "slide"
    }
   },
   "source": [
    "## 更多學習資源\n",
    "\n",
    "1. [Git 官方教學（繁體中文）](https://git-scm.com/book/zh-tw/v2/%e9%96%8b%e5%a7%8b-%e9%97%9c%e6%96%bc%e7%89%88%e6%9c%ac%e6%8e%a7%e5%88%b6)\n",
    "2. [Git 100 秒介紹影片](https://www.youtube.com/watch?v=hwP7WQkmECE)\n",
    "3. [Git&GitHub 介紹影片](https://www.youtube.com/watch?v=HkdAHXoRtos&t=545s)\n"
   ]
  }
 ],
 "metadata": {
  "kernelspec": {
   "display_name": "sprout-material-q3i2j_Tm-py3.12",
   "language": "python",
   "name": "python3"
  },
  "language_info": {
   "codemirror_mode": {
    "name": "ipython",
    "version": 3
   },
   "file_extension": ".py",
   "mimetype": "text/x-python",
   "name": "python",
   "nbconvert_exporter": "python",
   "pygments_lexer": "ipython3",
   "version": "3.12.7"
  }
 },
 "nbformat": 4,
 "nbformat_minor": 2
}
