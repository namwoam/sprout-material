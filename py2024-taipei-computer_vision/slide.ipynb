{
 "cells": [
  {
   "cell_type": "markdown",
   "metadata": {
    "slideshow": {
     "slide_type": "slide"
    }
   },
   "source": [
    "# Python Computer Vision\n",
    "資訊之芽 梁安哲 2024/06/02"
   ]
  },
  {
   "cell_type": "markdown",
   "metadata": {
    "slideshow": {
     "slide_type": "slide"
    }
   },
   "source": [
    "# Notes\n",
    "\n",
    "這個主題是我第一年開，所以有節奏掌握不好的地方歡迎隨時給我回饋。\n",
    "\n",
    "課程架構參考臺大電機系的選修課：[EEE5053 Computer Vision: from\n",
    "Recognition to Geometry](http://media.ee.ntu.edu.tw/courses/cv/23S/)"
   ]
  },
  {
   "cell_type": "markdown",
   "metadata": {
    "slideshow": {
     "slide_type": "slide"
    }
   },
   "source": [
    "# Outline\n",
    "\n",
    "1. Computer Vision Intro\n",
    "2. Image Processing\n",
    "3. Image Filters\n",
    "4. Image Classification\n",
    "5. Remarks\n",
    "6. Homework"
   ]
  },
  {
   "cell_type": "markdown",
   "metadata": {
    "slideshow": {
     "slide_type": "slide"
    }
   },
   "source": [
    "# Computer Vision Intro"
   ]
  },
  {
   "cell_type": "markdown",
   "metadata": {
    "slideshow": {
     "slide_type": "subslide"
    }
   },
   "source": [
    "## What is Computer Vision ?\n",
    "![](./image/1.png)\n",
    "\n",
    "讓電腦跟人類一樣看東西的技術。"
   ]
  },
  {
   "cell_type": "markdown",
   "metadata": {
    "slideshow": {
     "slide_type": "subslide"
    }
   },
   "source": [
    "## A Bit of History\n",
    "![](./image/2-s.jpg)\n",
    "\n",
    "\"電腦視覺\"這個概念緣起於一個 MIT 大一學生的暑假專題。[link](https://people.csail.mit.edu/brooks/idocs/AIM-100.pdf)"
   ]
  },
  {
   "cell_type": "markdown",
   "metadata": {
    "slideshow": {
     "slide_type": "subslide"
    }
   },
   "source": [
    "## A Bit of History Cont.\n",
    "\n",
    "![](./image/3.png)\n"
   ]
  },
  {
   "cell_type": "markdown",
   "metadata": {
    "slideshow": {
     "slide_type": "subslide"
    }
   },
   "source": [
    "## A Bit of History Cont.\n",
    "\n",
    "![](./image/4.png)\n",
    "\n",
    "使用各種複雜的數學模型執行任務。"
   ]
  },
  {
   "cell_type": "markdown",
   "metadata": {
    "slideshow": {
     "slide_type": "subslide"
    }
   },
   "source": [
    "## A Bit of History Cont.\n",
    "\n",
    "![](./image/5.png)\n",
    "\n",
    "ImageNet 是一個電腦視覺的圖片分類競賽，AlexNet 在2012年達到約15%的準確率，開啟了在電腦視覺任務中使用深度學習技術的浪潮。"
   ]
  },
  {
   "cell_type": "markdown",
   "metadata": {
    "slideshow": {
     "slide_type": "slide"
    }
   },
   "source": [
    "# Remarks"
   ]
  },
  {
   "cell_type": "markdown",
   "metadata": {
    "slideshow": {
     "slide_type": "subslide"
    }
   },
   "source": [
    "## Source\n",
    "\n",
    "1. Multimodal Data Fusion and Analytics Group"
   ]
  }
 ],
 "metadata": {
  "language_info": {
   "name": "python"
  }
 },
 "nbformat": 4,
 "nbformat_minor": 2
}
