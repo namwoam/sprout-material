{
 "cells": [
  {
   "attachments": {},
   "cell_type": "markdown",
   "metadata": {
    "slideshow": {
     "slide_type": "slide"
    }
   },
   "source": [
    "# Python Module\n",
    "資訊之芽 梁安哲 2023/04/16"
   ]
  },
  {
   "attachments": {},
   "cell_type": "markdown",
   "metadata": {
    "slideshow": {
     "slide_type": "slide"
    }
   },
   "source": [
    "# Outline\n",
    "\n",
    "- Introduction\n",
    "- Syntax\n",
    "- Your Module\n",
    "- Built-in Modules\n",
    "- External Modules\n",
    "- Additional Information"
   ]
  },
  {
   "attachments": {},
   "cell_type": "markdown",
   "metadata": {
    "slideshow": {
     "slide_type": "slide"
    }
   },
   "source": [
    "# Introduction"
   ]
  },
  {
   "attachments": {},
   "cell_type": "markdown",
   "metadata": {
    "slideshow": {
     "slide_type": "subslide"
    }
   },
   "source": [
    "## What is Module?\n"
   ]
  },
  {
   "attachments": {},
   "cell_type": "markdown",
   "metadata": {
    "slideshow": {
     "slide_type": "fragment"
    }
   },
   "source": [
    "### Simple Answer\n",
    "\n",
    "![](./image/01.png)"
   ]
  },
  {
   "attachments": {},
   "cell_type": "markdown",
   "metadata": {
    "slideshow": {
     "slide_type": "subslide"
    }
   },
   "source": [
    "## Benefits\n",
    "\n",
    "- Module 是別人寫的\n",
    "  - 不用重新造輪子\n",
    "- Module 是自己寫的\n",
    "  - 不用一個程式檔寫完一整個專案（雖然理論上可以\n",
    "  - 把程式檔案大小控制在合理的範圍（如同函式之於單個`.py`檔）\n",
    "  - 常用的東西（變數、函式、~~類別~~）只需要寫一次"
   ]
  },
  {
   "attachments": {},
   "cell_type": "markdown",
   "metadata": {
    "slideshow": {
     "slide_type": "subslide"
    }
   },
   "source": [
    "## Example\n",
    "去年的大作業：\n",
    "\n",
    "![](./image/02.png)\n",
    "\n",
    "把不同功能的程式碼放在不同檔案裡"
   ]
  },
  {
   "attachments": {},
   "cell_type": "markdown",
   "metadata": {
    "slideshow": {
     "slide_type": "slide"
    }
   },
   "source": [
    "# Syntax"
   ]
  },
  {
   "attachments": {},
   "cell_type": "markdown",
   "metadata": {
    "slideshow": {
     "slide_type": "subslide"
    }
   },
   "source": [
    "## Basic"
   ]
  },
  {
   "cell_type": "code",
   "execution_count": 1,
   "metadata": {
    "slideshow": {
     "slide_type": "fragment"
    }
   },
   "outputs": [
    {
     "name": "stdout",
     "output_type": "stream",
     "text": [
      "0.3010299956639812\n"
     ]
    }
   ],
   "source": [
    "import math\n",
    "print(math.log10(2))"
   ]
  },
  {
   "attachments": {},
   "cell_type": "markdown",
   "metadata": {
    "slideshow": {
     "slide_type": "subslide"
    }
   },
   "source": [
    "## With Alias\n",
    "\n",
    "![](./image/03.jpg)"
   ]
  },
  {
   "cell_type": "code",
   "execution_count": 2,
   "metadata": {
    "slideshow": {
     "slide_type": "subslide"
    }
   },
   "outputs": [
    {
     "name": "stdout",
     "output_type": "stream",
     "text": [
      "[[-7.  3.]\n",
      " [ 5. -2.]]\n"
     ]
    }
   ],
   "source": [
    "import numpy as np\n",
    "matrix = [[2,3] , [5,7]]\n",
    "print(np.linalg.inv(np.array(matrix)))"
   ]
  },
  {
   "cell_type": "code",
   "execution_count": 3,
   "metadata": {
    "slideshow": {
     "slide_type": "subslide"
    }
   },
   "outputs": [],
   "source": [
    "# 常見別名（第二階段課程）\n",
    "import numpy as np\n",
    "import pandas as pd\n",
    "import matplotlib.pyplot as plt\n",
    "# import torch.nn as nn"
   ]
  },
  {
   "attachments": {},
   "cell_type": "markdown",
   "metadata": {
    "slideshow": {
     "slide_type": "subslide"
    }
   },
   "source": [
    "## Import specific attributes\n",
    "可個別引入：變數、函式、~~類別~~"
   ]
  },
  {
   "cell_type": "code",
   "execution_count": 4,
   "metadata": {
    "slideshow": {
     "slide_type": "fragment"
    }
   },
   "outputs": [
    {
     "name": "stdout",
     "output_type": "stream",
     "text": [
      "58\n"
     ]
    }
   ],
   "source": [
    "from random import randint\n",
    "print(randint(0 , 100))"
   ]
  },
  {
   "cell_type": "code",
   "execution_count": 5,
   "metadata": {
    "slideshow": {
     "slide_type": "fragment"
    }
   },
   "outputs": [],
   "source": [
    "## NOT recommended\n",
    "from math import *"
   ]
  },
  {
   "attachments": {},
   "cell_type": "markdown",
   "metadata": {
    "slideshow": {
     "slide_type": "subslide"
    }
   },
   "source": [
    "## Error"
   ]
  },
  {
   "cell_type": "code",
   "execution_count": 6,
   "metadata": {
    "slideshow": {
     "slide_type": "fragment"
    }
   },
   "outputs": [
    {
     "ename": "ModuleNotFoundError",
     "evalue": "No module named 'NeverGonnaGiveYouUp'",
     "output_type": "error",
     "traceback": [
      "\u001b[0;31m---------------------------------------------------------------------------\u001b[0m",
      "\u001b[0;31mModuleNotFoundError\u001b[0m                       Traceback (most recent call last)",
      "Cell \u001b[0;32mIn[6], line 1\u001b[0m\n\u001b[0;32m----> 1\u001b[0m \u001b[39mimport\u001b[39;00m \u001b[39mNeverGonnaGiveYouUp\u001b[39;00m\n",
      "\u001b[0;31mModuleNotFoundError\u001b[0m: No module named 'NeverGonnaGiveYouUp'"
     ]
    }
   ],
   "source": [
    "import NeverGonnaGiveYouUp"
   ]
  },
  {
   "attachments": {},
   "cell_type": "markdown",
   "metadata": {
    "slideshow": {
     "slide_type": "fragment"
    }
   },
   "source": [
    "![](./image/04.jpg)"
   ]
  },
  {
   "attachments": {},
   "cell_type": "markdown",
   "metadata": {
    "slideshow": {
     "slide_type": "subslide"
    }
   },
   "source": [
    "## Practice\n",
    "使用1000個隨機小數座標估計圓周率$\\pi$，利用`random.random()`生成在$\\left[0,1\\right)$的隨機小數。\n",
    "\n",
    "![](./image/05.jpg)"
   ]
  },
  {
   "attachments": {},
   "cell_type": "markdown",
   "metadata": {
    "slideshow": {
     "slide_type": "subslide"
    }
   },
   "source": [
    "$$\n",
    "A(Circle)=\\pi r^2 = \\frac{\\pi}{4} \\\\\n",
    "A(Square)=d^2=1 \\\\\n",
    "p=\\frac{A(Circle)}{A(Square)}=\\frac{\\pi}{4} \\\\\n",
    "\\pi=4p\n",
    "$$"
   ]
  },
  {
   "cell_type": "code",
   "execution_count": null,
   "metadata": {
    "slideshow": {
     "slide_type": "subslide"
    }
   },
   "outputs": [
    {
     "name": "stdout",
     "output_type": "stream",
     "text": [
      "3.148\n"
     ]
    }
   ],
   "source": [
    "# Solution\n",
    "from random import random\n",
    "from math import sqrt\n",
    "inCircle = 0\n",
    "sampleCount = 1000\n",
    "for i in range(sampleCount):\n",
    "    x = random()\n",
    "    y = random()\n",
    "    distance = sqrt((x-0.5)**2+(y-0.5)**2)\n",
    "    if distance<0.5:\n",
    "        inCircle +=1\n",
    "p = inCircle/sampleCount\n",
    "pi = 4*p\n",
    "print(pi)"
   ]
  },
  {
   "attachments": {},
   "cell_type": "markdown",
   "metadata": {
    "slideshow": {
     "slide_type": "slide"
    }
   },
   "source": [
    "# Your Module"
   ]
  },
  {
   "attachments": {},
   "cell_type": "markdown",
   "metadata": {
    "slideshow": {
     "slide_type": "subslide"
    }
   },
   "source": [
    "## Practice\n",
    "\n",
    "1. 建立一個 `lib.py` 檔案\n",
    "2. 定義 `drawSquare()` 函式，畫出給定邊長的正方形。\n",
    "3. 定義 `drawTriangle()` 函式，畫出給定邊長的三角形（加分）。"
   ]
  },
  {
   "attachments": {},
   "cell_type": "markdown",
   "metadata": {
    "slideshow": {
     "slide_type": "subslide"
    }
   },
   "source": [
    "# Instructor's Soltion\n",
    "\n",
    "![](./image/06.png)\n"
   ]
  },
  {
   "cell_type": "code",
   "execution_count": null,
   "metadata": {
    "slideshow": {
     "slide_type": "subslide"
    }
   },
   "outputs": [
    {
     "name": "stdout",
     "output_type": "stream",
     "text": [
      "==========\n",
      "=        =\n",
      "=        =\n",
      "=        =\n",
      "=        =\n",
      "=        =\n",
      "=        =\n",
      "=        =\n",
      "=        =\n",
      "==========\n"
     ]
    }
   ],
   "source": [
    "from lib import drawSquare\n",
    "drawSquare(10)"
   ]
  },
  {
   "attachments": {},
   "cell_type": "markdown",
   "metadata": {
    "slideshow": {
     "slide_type": "subslide"
    }
   },
   "source": [
    "```\n",
    "project\n",
    "├── Controller\n",
    "|   └── controller.py\n",
    "├── Model\n",
    "|   ├── items.py\n",
    "|   └── player.py\n",
    "└── main.py\n",
    "```\n",
    "在`main.py`：\n",
    "```\n",
    "from .Controller import controller\n",
    "from .Model.items import item_names\n",
    "```\n",
    "在`controller.py`\n",
    "```\n",
    "from ..Model.items import item_names\n",
    "```\n",
    ".<-從檔案的同一層資料夾開始\n",
    "\n",
    "..<-從檔案的下一層開始"
   ]
  },
  {
   "attachments": {},
   "cell_type": "markdown",
   "metadata": {
    "slideshow": {
     "slide_type": "slide"
    }
   },
   "source": [
    "# Built-in Modules"
   ]
  },
  {
   "attachments": {},
   "cell_type": "markdown",
   "metadata": {
    "slideshow": {
     "slide_type": "subslide"
    }
   },
   "source": [
    "## Resource\n",
    "\n",
    "https://docs.python.org/3/library/"
   ]
  },
  {
   "cell_type": "code",
   "execution_count": null,
   "metadata": {
    "slideshow": {
     "slide_type": "subslide"
    }
   },
   "outputs": [
    {
     "name": "stdout",
     "output_type": "stream",
     "text": [
      "13\n",
      "0.49999999999999994\n",
      "2.718281828459045\n",
      "0.47712125471966244\n",
      "4.0\n",
      "120\n",
      "625.0\n",
      "3\n"
     ]
    }
   ],
   "source": [
    "import math\n",
    "print(math.gcd(91 , 39))\n",
    "print(math.sin(math.radians(30)))\n",
    "print(math.e)\n",
    "print(math.log10(3))\n",
    "print(math.sqrt(16))\n",
    "print(math.factorial(5))\n",
    "print(math.pow(5,4))\n",
    "print(math.floor(3.7))"
   ]
  },
  {
   "cell_type": "code",
   "execution_count": null,
   "metadata": {
    "slideshow": {
     "slide_type": "subslide"
    }
   },
   "outputs": [
    {
     "name": "stdout",
     "output_type": "stream",
     "text": [
      "0.2587377658599147\n",
      "32\n",
      "0\n",
      "[0, 1, 2, 3, 4, 5, 6, 7, 8, 9]\n",
      "[3, 1, 2, 0, 4, 8, 9, 6, 5, 7]\n"
     ]
    }
   ],
   "source": [
    "import random\n",
    "print(random.random()) #[0,1)\n",
    "print(random.randint(1,100)) #[a,b]\n",
    "\n",
    "array = list(range(10))\n",
    "print(random.choice(array))\n",
    "print(array)\n",
    "random.shuffle(array)\n",
    "print(array)"
   ]
  },
  {
   "cell_type": "code",
   "execution_count": null,
   "metadata": {
    "slideshow": {
     "slide_type": "subslide"
    }
   },
   "outputs": [
    {
     "name": "stdout",
     "output_type": "stream",
     "text": [
      "[<re.Match object; span=(0, 5), match='AATCG'>, <re.Match object; span=(12, 17), match='GATCG'>]\n"
     ]
    }
   ],
   "source": [
    "import re\n",
    "result = re.finditer(\".ATC.\", \"AATCGATACGTCGATCGATTGCA\")\n",
    "print(list(result))"
   ]
  },
  {
   "attachments": {},
   "cell_type": "markdown",
   "metadata": {
    "slideshow": {
     "slide_type": "subslide"
    }
   },
   "source": [
    "![](./image/07.jpg)"
   ]
  },
  {
   "cell_type": "code",
   "execution_count": null,
   "metadata": {
    "slideshow": {
     "slide_type": "subslide"
    }
   },
   "outputs": [
    {
     "name": "stdout",
     "output_type": "stream",
     "text": [
      "linux\n",
      "3.10.10 | packaged by conda-forge | (main, Mar 24 2023, 20:08:06) [GCC 11.3.0]\n",
      "/home/andreliang/mambaforge/bin/python\n",
      "Copyright (c) 2001-2023 Python Software Foundation.\n",
      "All Rights Reserved.\n",
      "\n",
      "Copyright (c) 2000 BeOpen.com.\n",
      "All Rights Reserved.\n",
      "\n",
      "Copyright (c) 1995-2001 Corporation for National Research Initiatives.\n",
      "All Rights Reserved.\n",
      "\n",
      "Copyright (c) 1991-1995 Stichting Mathematisch Centrum, Amsterdam.\n",
      "All Rights Reserved.\n"
     ]
    }
   ],
   "source": [
    "import sys\n",
    "print(sys.platform) \n",
    "print(sys.version)\n",
    "print(sys.executable)\n",
    "print(sys.copyright)"
   ]
  },
  {
   "cell_type": "code",
   "execution_count": null,
   "metadata": {
    "slideshow": {
     "slide_type": "subslide"
    }
   },
   "outputs": [
    {
     "name": "stdout",
     "output_type": "stream",
     "text": [
      "Sun Apr  9 11:03:33 2023\n",
      "1681009413.9502878\n",
      "1681009418.9549775\n"
     ]
    }
   ],
   "source": [
    "import time\n",
    "print(time.asctime())\n",
    "print(time.time())\n",
    "time.sleep(5)\n",
    "print(time.time()) \n",
    "# extended reading: https://www.youtube.com/watch?v=QJQ691PTKsA\n"
   ]
  },
  {
   "cell_type": "code",
   "execution_count": null,
   "metadata": {
    "slideshow": {
     "slide_type": "subslide"
    }
   },
   "outputs": [
    {
     "name": "stdout",
     "output_type": "stream",
     "text": [
      "2023-04-09 11:03:39.030028\n",
      "2023-04-09\n",
      "2023-04-23\n",
      "Year: 2023, seconds: 39\n"
     ]
    }
   ],
   "source": [
    "import datetime\n",
    "print(datetime.datetime.now()) \n",
    "print(datetime.date.today())\n",
    "delta = datetime.timedelta(weeks = 2)\n",
    "print(datetime.date.today()+delta)\n",
    "print(datetime.datetime.now().strftime(\"Year: %Y, seconds: %S\"))\n"
   ]
  },
  {
   "attachments": {},
   "cell_type": "markdown",
   "metadata": {
    "slideshow": {
     "slide_type": "subslide"
    }
   },
   "source": [
    "## Practice\n",
    "![](./image/08.png)"
   ]
  },
  {
   "cell_type": "code",
   "execution_count": null,
   "metadata": {
    "slideshow": {
     "slide_type": "subslide"
    }
   },
   "outputs": [
    {
     "name": "stdout",
     "output_type": "stream",
     "text": [
      "56 2.1871034934604183\n"
     ]
    }
   ],
   "source": [
    "# Solution\n",
    "import math\n",
    "num = math.pow(math.pow(49,1/3), 100)\n",
    "n = math.floor(math.log10(num))\n",
    "a = math.pow(10, math.log10(num)-n)\n",
    "print(n , a)"
   ]
  },
  {
   "attachments": {},
   "cell_type": "markdown",
   "metadata": {},
   "source": [
    "# "
   ]
  },
  {
   "attachments": {},
   "cell_type": "markdown",
   "metadata": {
    "slideshow": {
     "slide_type": "slide"
    }
   },
   "source": [
    "# External Modules"
   ]
  },
  {
   "attachments": {},
   "cell_type": "markdown",
   "metadata": {
    "slideshow": {
     "slide_type": "subslide"
    }
   },
   "source": [
    "## Resource\n",
    "1. https://pypi.org/\n",
    "2. https://docs.conda.io/en/latest/"
   ]
  },
  {
   "attachments": {},
   "cell_type": "markdown",
   "metadata": {
    "slideshow": {
     "slide_type": "subslide"
    }
   },
   "source": [
    "`pip install <package-name>`"
   ]
  },
  {
   "attachments": {},
   "cell_type": "markdown",
   "metadata": {
    "slideshow": {
     "slide_type": "subslide"
    }
   },
   "source": [
    "## Example\n",
    "![](./image/11.png)\n",
    "\n",
    "url: https://pypi.org/project/emoji/"
   ]
  },
  {
   "attachments": {},
   "cell_type": "markdown",
   "metadata": {
    "slideshow": {
     "slide_type": "subslide"
    }
   },
   "source": [
    "![](./image/10.png)"
   ]
  },
  {
   "cell_type": "code",
   "execution_count": null,
   "metadata": {
    "slideshow": {
     "slide_type": "subslide"
    }
   },
   "outputs": [
    {
     "name": "stdout",
     "output_type": "stream",
     "text": [
      "Python is 🆒\n"
     ]
    }
   ],
   "source": [
    "import emoji\n",
    "print(emoji.emojize('Python is :COOL_button:'))\n",
    "# list: https://carpedm20.github.io/emoji/all.html?enableList=enable_list_zh"
   ]
  },
  {
   "attachments": {},
   "cell_type": "markdown",
   "metadata": {
    "slideshow": {
     "slide_type": "subslide"
    }
   },
   "source": [
    "## Practice\n",
    "\n",
    "安裝維基百科套件 `wikipeida` 網址：https://pypi.org/project/wikipedia/ ，之後利用這個套件印出你的學校的簡介（如果你的學校沒有維基百科頁面，則印出國立臺灣大學的簡介）\n",
    "\n",
    "請自行閱讀官網的介紹 網址：https://wikipedia.readthedocs.io/en/latest/code.html#api ，學會如何操作這個套件。\n"
   ]
  },
  {
   "cell_type": "code",
   "execution_count": null,
   "metadata": {
    "slideshow": {
     "slide_type": "subslide"
    }
   },
   "outputs": [
    {
     "name": "stdout",
     "output_type": "stream",
     "text": [
      "National Taiwan University (NTU; Chinese: 國立臺灣大學; Pe̍h-ōe-jī: Kok-li̍p Tâi-oân Tāi-ha̍k) is a public research university in Taipei, Taiwan.The university was founded in 1928 during Japanese rule as the seventh of the Imperial Universities. It was named Taihoku Imperial University and served during the period of Japanese colonization. After World War II, the Nationalist Kuomintang (KMT) government assumed the administration of the university. The Ministry of Education reorganized and renamed the university to its current name on November 15, 1945, with its roots of liberal tradition from Peking University in Beijing by former NTU President Fu Ssu-nien. The university consists of 11 colleges, 56 departments, 133 graduate institutes, about 60 research centers, and a school of professional education and continuing studies.Notable alumni include Tsai Ing-Wen, current President of the Republic of China, former presidents Lee Teng-hui, Chen Shui-bian and Ma Ying-jeou, Turing Award laureate Andrew Yao, and Nobel Prize in Chemistry laureate Yuan T. Lee. NTU is affiliated with National Taiwan Normal University and National Taiwan University of Science and Technology as part of the NTU System.\n"
     ]
    }
   ],
   "source": [
    "# Solution\n",
    "import wikipedia\n",
    "print(wikipedia.summary(\"National Taiwan University\"))"
   ]
  },
  {
   "attachments": {},
   "cell_type": "markdown",
   "metadata": {
    "slideshow": {
     "slide_type": "slide"
    }
   },
   "source": [
    "# Additional Information"
   ]
  },
  {
   "attachments": {},
   "cell_type": "markdown",
   "metadata": {
    "slideshow": {
     "slide_type": "subslide"
    }
   },
   "source": [
    "## Reference\n",
    "1. [2022年北區py班簡報](https://hackmd.io/@VLvbo_-_QjqwJnUcuKdxSQ/r1LyLfiZ5#/3/10)\n",
    "2. https://www.geeksforgeeks.org/10-interesting-modules-in-python-to-play-with/\n",
    "3. https://www1.pu.edu.tw/~hdchen/handout_bank/mm/97_2_la_handout_04.pdf"
   ]
  }
 ],
 "metadata": {
  "kernelspec": {
   "display_name": "sprout",
   "language": "python",
   "name": "python3"
  },
  "language_info": {
   "codemirror_mode": {
    "name": "ipython",
    "version": 3
   },
   "file_extension": ".py",
   "mimetype": "text/x-python",
   "name": "python",
   "nbconvert_exporter": "python",
   "pygments_lexer": "ipython3",
   "version": "3.10.10"
  },
  "orig_nbformat": 4
 },
 "nbformat": 4,
 "nbformat_minor": 2
}
