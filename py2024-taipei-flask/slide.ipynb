{
 "cells": [
  {
   "cell_type": "markdown",
   "metadata": {
    "slideshow": {
     "slide_type": "slide"
    }
   },
   "source": [
    "# Python Web Programming\n",
    "資訊之芽 梁安哲 2024/05/12"
   ]
  },
  {
   "cell_type": "markdown",
   "metadata": {
    "slideshow": {
     "slide_type": "slide"
    }
   },
   "source": [
    "# 課前提問\n",
    "\n",
    "還喜歡超級貓貓星際探險嗎？"
   ]
  },
  {
   "cell_type": "markdown",
   "metadata": {
    "slideshow": {
     "slide_type": "slide"
    }
   },
   "source": [
    "# Outline\n",
    "- Internet Basics\n",
    "- Frontend? Backend?\n",
    "- Flack Introduction\n",
    "- HTML\n",
    "- Flask Cont.\n",
    "- Template Response\n",
    "- Database\n",
    "- Deployment\n",
    "- Remarks\n",
    "- Homework"
   ]
  },
  {
   "cell_type": "markdown",
   "metadata": {
    "slideshow": {
     "slide_type": "slide"
    }
   },
   "source": [
    "# Internet Basics"
   ]
  },
  {
   "cell_type": "markdown",
   "metadata": {
    "slideshow": {
     "slide_type": "subslide"
    }
   },
   "source": [
    "## What is the Internet?\n",
    "\n",
    "相互連接的電腦所組成的網路。\n",
    "\n",
    "![](./image/1-s.png)"
   ]
  },
  {
   "cell_type": "markdown",
   "metadata": {
    "slideshow": {
     "slide_type": "subslide"
    }
   },
   "source": [
    "## OSI 7-Layer Protocol Reference Model\n",
    "\n",
    "讓全世界不同國家制定的標準、廠商製造的設備能相互溝通。\n",
    "\n",
    "![](./image/2-s.png)"
   ]
  },
  {
   "cell_type": "markdown",
   "metadata": {
    "slideshow": {
     "slide_type": "subslide"
    }
   },
   "source": [
    "## Example: Application Layer\n",
    "\n",
    "| 應用程式    | 對應的通訊協定 |\n",
    "| ----------- | ----------- |\n",
    "| Web     | HTTP(RFC 2616)       |\n",
    "| Email   | SMTP(RFC 2821)       |\n",
    "| File    | FTP(RFC 959)         |"
   ]
  },
  {
   "cell_type": "markdown",
   "metadata": {
    "slideshow": {
     "slide_type": "subslide"
    }
   },
   "source": [
    "## Example: Data-link Layer\n",
    "\n",
    "![](./image/3.png)"
   ]
  },
  {
   "cell_type": "markdown",
   "metadata": {
    "slideshow": {
     "slide_type": "subslide"
    }
   },
   "source": [
    "## HTTP in action\n",
    "\n",
    "點擊 Chrome 瀏覽器左上角的點點 -> 更多工具 -> 開發者工具。\n",
    "\n",
    "![](./image/4.png)\n",
    "\n",
    "HTTP 通訊協定可以向不同 IP 位置的主機請求檔案。"
   ]
  },
  {
   "cell_type": "markdown",
   "metadata": {
    "slideshow": {
     "slide_type": "subslide"
    }
   },
   "source": [
    "## HTTP Cont. \n",
    "\n",
    "DNS 協定可以將網址（如`www.google.com`）轉換成 IP 位置。\n",
    "\n",
    "![](./image/5.png)"
   ]
  },
  {
   "cell_type": "markdown",
   "metadata": {
    "slideshow": {
     "slide_type": "slide"
    }
   },
   "source": [
    "# Frontend? Backend?"
   ]
  },
  {
   "cell_type": "markdown",
   "metadata": {
    "slideshow": {
     "slide_type": "subslide"
    }
   },
   "source": [
    "## Frontend/Backend\n",
    "\n",
    "![](./image/6.webp)\n",
    "\n",
    "前端負責設計網頁界面、後端負責設計應用程式的邏輯。"
   ]
  },
  {
   "cell_type": "markdown",
   "metadata": {
    "slideshow": {
     "slide_type": "subslide"
    }
   },
   "source": [
    "## Where is Python?\n",
    "\n",
    "![](./image/7.jpg)\n",
    "\n",
    "後端框架 Django 和 Flask 即是以 Python 編寫而成。\n",
    "由於網頁瀏覽器的標準化，前端所使用的程式語言以 Javascript 為大宗。"
   ]
  },
  {
   "cell_type": "markdown",
   "metadata": {
    "slideshow": {
     "slide_type": "slide"
    }
   },
   "source": [
    "# Flack Introduction"
   ]
  },
  {
   "cell_type": "markdown",
   "metadata": {
    "slideshow": {
     "slide_type": "slide"
    }
   },
   "source": [
    "# Remarks"
   ]
  },
  {
   "cell_type": "markdown",
   "metadata": {
    "slideshow": {
     "slide_type": "subslide"
    }
   },
   "source": [
    "## Source\n",
    "1. Computer Networking: A Top-Down Approach Copyright © 2022 Pearson Education Ltd\n",
    "2. Amazon Web Service Official Website\n",
    "3. GeeksforGeeks\n",
    "4. Statistics and data "
   ]
  }
 ],
 "metadata": {
  "kernelspec": {
   "display_name": "base",
   "language": "python",
   "name": "python3"
  },
  "language_info": {
   "name": "python",
   "version": "3.10.12"
  }
 },
 "nbformat": 4,
 "nbformat_minor": 2
}
