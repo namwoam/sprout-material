{
 "cells": [
  {
   "cell_type": "markdown",
   "metadata": {
    "slideshow": {
     "slide_type": "slide"
    }
   },
   "source": [
    "# Python Web Programming\n",
    "資訊之芽 梁安哲 2024/05/12"
   ]
  },
  {
   "cell_type": "markdown",
   "metadata": {
    "slideshow": {
     "slide_type": "slide"
    }
   },
   "source": [
    "# 課前提問\n",
    "\n",
    "還喜歡超級貓貓星際探險嗎？"
   ]
  },
  {
   "cell_type": "markdown",
   "metadata": {
    "slideshow": {
     "slide_type": "slide"
    }
   },
   "source": [
    "# Outline\n",
    "- Internet Basics\n",
    "- Frontend? Backend?\n",
    "- Flack Introduction\n",
    "- HTML\n",
    "- Flask Cont.\n",
    "- Template Response\n",
    "- Deployment\n",
    "- Remarks\n",
    "- Homework"
   ]
  },
  {
   "cell_type": "markdown",
   "metadata": {
    "slideshow": {
     "slide_type": "slide"
    }
   },
   "source": [
    "# Internet Basics"
   ]
  },
  {
   "cell_type": "markdown",
   "metadata": {
    "slideshow": {
     "slide_type": "subslide"
    }
   },
   "source": [
    "## What is the Internet?\n",
    "\n",
    "相互連接的電腦所組成的網路。\n",
    "\n",
    "![](./image/1-s.png)"
   ]
  },
  {
   "cell_type": "markdown",
   "metadata": {
    "slideshow": {
     "slide_type": "subslide"
    }
   },
   "source": [
    "## OSI 7-Layer Protocol Reference Model\n",
    "\n",
    "讓全世界不同國家制定的標準、廠商製造的設備能相互溝通。\n",
    "\n",
    "![](./image/2-s.png)"
   ]
  },
  {
   "cell_type": "markdown",
   "metadata": {
    "slideshow": {
     "slide_type": "subslide"
    }
   },
   "source": [
    "## Example: Application Layer\n",
    "\n",
    "| 應用程式    | 對應的通訊協定 |\n",
    "| ----------- | ----------- |\n",
    "| Web     | HTTP(RFC 2616)       |\n",
    "| Email   | SMTP(RFC 2821)       |\n",
    "| File    | FTP(RFC 959)         |"
   ]
  },
  {
   "cell_type": "markdown",
   "metadata": {
    "slideshow": {
     "slide_type": "subslide"
    }
   },
   "source": [
    "## Example: Data-link Layer\n",
    "\n",
    "![](./image/3.png)"
   ]
  },
  {
   "cell_type": "markdown",
   "metadata": {
    "slideshow": {
     "slide_type": "subslide"
    }
   },
   "source": [
    "## HTTP in action\n",
    "\n",
    "點擊 Chrome 瀏覽器左上角的點點 -> 更多工具 -> 開發者工具。\n",
    "\n",
    "![](./image/4.png)\n",
    "\n",
    "HTTP 通訊協定可以向不同 IP 位置的主機請求檔案。"
   ]
  },
  {
   "cell_type": "markdown",
   "metadata": {
    "slideshow": {
     "slide_type": "subslide"
    }
   },
   "source": [
    "## HTTP Cont. \n",
    "\n",
    "DNS 協定可以將網址（如`www.google.com`）轉換成 IP 位置。\n",
    "\n",
    "![](./image/5.png)"
   ]
  },
  {
   "cell_type": "markdown",
   "metadata": {
    "slideshow": {
     "slide_type": "slide"
    }
   },
   "source": [
    "# Frontend? Backend?"
   ]
  },
  {
   "cell_type": "markdown",
   "metadata": {
    "slideshow": {
     "slide_type": "subslide"
    }
   },
   "source": [
    "## Frontend/Backend\n",
    "\n",
    "![](./image/6.webp)\n",
    "\n",
    "前端負責設計網頁界面、後端負責設計應用程式的邏輯。"
   ]
  },
  {
   "cell_type": "markdown",
   "metadata": {
    "slideshow": {
     "slide_type": "subslide"
    }
   },
   "source": [
    "## Where is Python?\n",
    "\n",
    "![](./image/7.jpg)\n",
    "\n",
    "後端框架 Django 和 Flask 即是以 Python 編寫而成。\n",
    "\n",
    "由於網頁瀏覽器的標準化，前端所使用的程式語言以 Javascript 為大宗。"
   ]
  },
  {
   "cell_type": "markdown",
   "metadata": {
    "slideshow": {
     "slide_type": "subslide"
    }
   },
   "source": [
    "## Practice\n",
    "\n",
    "找到藏在 https://tw-csie-sprout.github.io/py2023/speaker 中的祕密。\n",
    "\n",
    "格式為: SPROUT{P0_XXXXXXXXXX}"
   ]
  },
  {
   "cell_type": "markdown",
   "metadata": {
    "slideshow": {
     "slide_type": "slide"
    }
   },
   "source": [
    "# Flack Introduction"
   ]
  },
  {
   "cell_type": "markdown",
   "metadata": {
    "slideshow": {
     "slide_type": "subslide"
    }
   },
   "source": [
    "## Before we start\n",
    "1. `pip install flask`\n",
    "2. 準備一個獨立的資料夾裝所有檔案"
   ]
  },
  {
   "cell_type": "markdown",
   "metadata": {
    "slideshow": {
     "slide_type": "subslide"
    }
   },
   "source": [
    "## Hello Sprout\n",
    "[link](https://github.com/namwoam/sprout-material/blob/main/py2024-taipei-flask/src/example-1.py)"
   ]
  },
  {
   "cell_type": "markdown",
   "metadata": {
    "slideshow": {
     "slide_type": "subslide"
    }
   },
   "source": [
    "### Initialize\n",
    "\n",
    "```py\n",
    "from flask import Flask\n",
    "app = Flask(__name__)\n",
    "```"
   ]
  },
  {
   "cell_type": "markdown",
   "metadata": {
    "slideshow": {
     "slide_type": "subslide"
    }
   },
   "source": [
    "### Define route and view\n",
    "\n",
    "```py\n",
    "@app.route(\"/\")\n",
    "def hello_sprout():\n",
    "    return \"Hello, Sprout!\"\n",
    "```"
   ]
  },
  {
   "cell_type": "markdown",
   "metadata": {
    "slideshow": {
     "slide_type": "subslide"
    }
   },
   "source": [
    "### Run the app!\n",
    "\n",
    "```py\n",
    "if __name__ == \"__main__\":\n",
    "    app.run()\n",
    "```"
   ]
  },
  {
   "cell_type": "markdown",
   "metadata": {
    "slideshow": {
     "slide_type": "subslide"
    }
   },
   "source": [
    "![](./image/8.png)"
   ]
  },
  {
   "cell_type": "markdown",
   "metadata": {
    "slideshow": {
     "slide_type": "subslide"
    }
   },
   "source": [
    "## Practice\n",
    "\n",
    "1. 讓伺服器顯示自己的名字。\n",
    "2. 執行的時候使用`app.run(host=\"0.0.0.0\")`。\n",
    "3. 試試看連不連得到左鄰右舍的伺服器。"
   ]
  },
  {
   "cell_type": "markdown",
   "metadata": {
    "slideshow": {
     "slide_type": "slide"
    }
   },
   "source": [
    "# HTML: HyperText Markup Language"
   ]
  },
  {
   "cell_type": "markdown",
   "metadata": {
    "slideshow": {
     "slide_type": "subslide"
    }
   },
   "source": [
    "## Structure on my website!\n",
    "\n",
    "想要網站上有標題、段落、圖片等，和 Word 一樣。\n",
    "\n",
    "實際上 Microsoft Word / Google Docs 背後也是使用某種 Markup Language"
   ]
  },
  {
   "cell_type": "markdown",
   "metadata": {
    "slideshow": {
     "slide_type": "subslide"
    }
   },
   "source": [
    "以資芽網站為例：\n",
    "![](./image/9.png)"
   ]
  },
  {
   "cell_type": "markdown",
   "metadata": {
    "slideshow": {
     "slide_type": "subslide"
    }
   },
   "source": [
    "## HTML Elements\n",
    "\n",
    "![](./image/10.png)"
   ]
  },
  {
   "cell_type": "markdown",
   "metadata": {
    "slideshow": {
     "slide_type": "subslide"
    }
   },
   "source": [
    "### Simple Introduction\n",
    "1. `<h1>Title</h1>` n=1...5\n",
    "2. `<p>Text</p>`\n",
    "3. Table\n",
    "```html\n",
    "<table>\n",
    "  <tr>\n",
    "    <th>Company</th>\n",
    "    <th>Contact</th>\n",
    "    <th>Country</th>\n",
    "  </tr>\n",
    "  <tr>\n",
    "    <td>Alfreds Futterkiste</td>\n",
    "    <td>Maria Anders</td>\n",
    "    <td>Germany</td>\n",
    "  </tr>\n",
    "  <tr>\n",
    "    <td>Centro comercial Moctezuma</td>\n",
    "    <td>Francisco Chang</td>\n",
    "    <td>Mexico</td>\n",
    "  </tr>\n",
    "</table>\n",
    "```"
   ]
  },
  {
   "cell_type": "markdown",
   "metadata": {
    "slideshow": {
     "slide_type": "subslide"
    }
   },
   "source": [
    "### Simple Introduction Cont.\n",
    "\n",
    "4. `<img src=\"/link/to/image.extension\">`\n",
    "5. `<h1 style=\"color:red;\">Red Title!</h1>`\n",
    "\n",
    "For more information, read: [link](https://www.w3schools.com/html/default.asp)"
   ]
  },
  {
   "cell_type": "markdown",
   "metadata": {
    "slideshow": {
     "slide_type": "subslide"
    }
   },
   "source": [
    "## Practice\n",
    "\n",
    "1. 讓伺服器回傳自己的名字。\n",
    "2. 回傳最高級的標題，字體顏色為藍色。\n",
    "3. 在 [giphy](https://giphy.com/) 找一張自己喜歡的動圖，點選 Embed 後將動圖嵌入到自己的網頁裡。"
   ]
  },
  {
   "cell_type": "markdown",
   "metadata": {
    "slideshow": {
     "slide_type": "slide"
    }
   },
   "source": [
    "# Flask Cont."
   ]
  },
  {
   "cell_type": "markdown",
   "metadata": {
    "slideshow": {
     "slide_type": "subslide"
    }
   },
   "source": [
    "## Route & View\n",
    "\n",
    "![](./image/11.png)\n",
    "![](./image/12.png)\n",
    "![](./image/13.png)\n",
    "\n",
    "網站上可以有很多頁面(view)，可以通過不同路由(route)存取"
   ]
  },
  {
   "cell_type": "markdown",
   "metadata": {
    "slideshow": {
     "slide_type": "subslide"
    }
   },
   "source": [
    "## Hello Maowman!\n",
    "\n",
    "https://github.com/namwoam/sprout-material/blob/main/py2024-taipei-flask/src/example-2.py"
   ]
  },
  {
   "cell_type": "markdown",
   "metadata": {
    "slideshow": {
     "slide_type": "subslide"
    }
   },
   "source": [
    "## Different Routes\n",
    "```python\n",
    "@app.route(\"/dancing\")\n",
    "def dancing():\n",
    "    return '<div class=\"tenor-gif-embed\" data-postid=\"8301814479124957525\" data-share-method=\"host\" data-aspect-ratio=\"0.618834\" data-width=\"100%\"><a href=\"https://tenor.com/view/catdancing-cat-dance-cat-busting-it-down-cat-dance-girlfriend-tiktokcatdance-gif-8301814479124957525\">Catdancing Cat Dance GIF</a>from <a href=\"https://tenor.com/search/catdancing-gifs\">Catdancing GIFs</a></div> <script type=\"text/javascript\" async src=\"https://tenor.com/embed.js\"></script>'\n",
    "\n",
    "\n",
    "@app.route(\"/who\")\n",
    "def price():\n",
    "    return \"<p>我是超級貓貓男<\\p>\"\n",
    "```"
   ]
  },
  {
   "cell_type": "markdown",
   "metadata": {
    "slideshow": {
     "slide_type": "subslide"
    }
   },
   "source": [
    "## Dynamic Routes\n",
    "```python\n",
    "@app.route(\"/student/<studentName>\")\n",
    "def hello_student(studentName):\n",
    "    return f\"<h1>Hello, {studentName}!</h1>\"\n",
    "```"
   ]
  },
  {
   "cell_type": "markdown",
   "metadata": {
    "slideshow": {
     "slide_type": "subslide"
    }
   },
   "source": [
    "## HTTP parameters\n",
    "```python\n",
    "password = \"CHIPI-CHIPI-CHAPA-CHAPA\"\n",
    "@app.route(\"/secret\")\n",
    "def getSecret():\n",
    "    try:\n",
    "        inputPassword = request.args.get(\"password\")\n",
    "        if password != inputPassword:\n",
    "            raise Exception(\"Password incorrect\")\n",
    "        return \"<h1>超級貓貓男高中的時候體育跟美術都被當:P</h1>\"\n",
    "    except Exception as e:\n",
    "        return f\"403 Forbidden : {e}\", 403\n",
    "```\n",
    "`http://{app.host}:{app.port}/secret?password=CHIPI-CHIPI-CHAPA-CHAPA`"
   ]
  },
  {
   "cell_type": "markdown",
   "metadata": {
    "slideshow": {
     "slide_type": "subslide"
    }
   },
   "source": [
    "![](./image/14.png)"
   ]
  },
  {
   "cell_type": "markdown",
   "metadata": {
    "slideshow": {
     "slide_type": "subslide"
    }
   },
   "source": [
    "### Status Code\n",
    "- 200 -> OK\n",
    "- 403 -> Forbidden\n",
    "- 404 -> Not Found\n",
    "- 500 -> Internal Server Error\n",
    "\n",
    "更多狀態碼: [link](https://developer.mozilla.org/en-US/docs/Web/HTTP/Status#server_error_responses)"
   ]
  },
  {
   "cell_type": "markdown",
   "metadata": {
    "slideshow": {
     "slide_type": "subslide"
    }
   },
   "source": [
    "## Redirect\n",
    "```python\n",
    "@app.route(\"/chipi\")\n",
    "def rickroll():\n",
    "    return redirect(\"https://www.youtube.com/watch?v=wh9QLjk3M2k\")\n",
    "```"
   ]
  },
  {
   "cell_type": "markdown",
   "metadata": {
    "slideshow": {
     "slide_type": "subslide"
    }
   },
   "source": [
    "## Practice\n",
    "1. 建立一個新的 route `traffic`。\n",
    "2. 顯示所有頁面被訪問的次數。"
   ]
  },
  {
   "cell_type": "markdown",
   "metadata": {
    "slideshow": {
     "slide_type": "slide"
    }
   },
   "source": [
    "# Template Response"
   ]
  },
  {
   "cell_type": "markdown",
   "metadata": {
    "slideshow": {
     "slide_type": "subslide"
    }
   },
   "source": [
    "## Before we start\n",
    "\n",
    "1. 建立名為`templates`的資料夾放模板檔案（一字不差！）。"
   ]
  },
  {
   "cell_type": "markdown",
   "metadata": {
    "slideshow": {
     "slide_type": "subslide"
    }
   },
   "source": [
    "## Hello Maowman! 2.0\n",
    "\n",
    "https://github.com/namwoam/sprout-material/blob/main/py2024-taipei-flask/src/example-3.py"
   ]
  },
  {
   "cell_type": "markdown",
   "metadata": {
    "slideshow": {
     "slide_type": "subslide"
    }
   },
   "source": [
    "## Template\n",
    "\n",
    "```python\n",
    "from flask import render_template\n",
    "@app.route(\"/\")\n",
    "def index():\n",
    "    return render_template(\"index.html\")\n",
    "```\n",
    "\n",
    "新增檔案 `/templates/index.html`\n",
    "```html\n",
    "<h1>Hello Sprout!</h1>\n",
    "```"
   ]
  },
  {
   "cell_type": "markdown",
   "metadata": {
    "slideshow": {
     "slide_type": "subslide"
    }
   },
   "source": [
    "## Template 有什麼好處？\n",
    "\n",
    "把程式邏輯跟視覺設計分開\n",
    "\n",
    "功能的抽象化有助於管理跟分工"
   ]
  },
  {
   "cell_type": "markdown",
   "metadata": {
    "slideshow": {
     "slide_type": "subslide"
    }
   },
   "source": [
    "## Variables\n",
    "\n",
    "```python\n",
    "@app.route(\"/ship\")\n",
    "def ship():\n",
    "    return render_template(\"ship.html\" , system = \"太陽系\" , planet = \"地球\")\n",
    "```\n",
    "\n",
    "新增檔案 `/templates/ship.html`\n",
    "```html\n",
    "<p>超級貓貓號現在停留在 {{system}}星系 - {{planet}}星球</p>\n",
    "```"
   ]
  },
  {
   "cell_type": "markdown",
   "metadata": {
    "slideshow": {
     "slide_type": "subslide"
    }
   },
   "source": [
    "## Condition\n",
    "\n",
    "```python\n",
    "@app.route(\"/board\")\n",
    "def board():\n",
    "    age = 0\n",
    "    try:\n",
    "        age = int( request.args.get(\"age\"))\n",
    "    except Exception as e:\n",
    "        print(e)\n",
    "    return render_template(\"board.html\" , age = age )\n",
    "```\n",
    "\n",
    "新增檔案 `/templates/board.html`\n",
    "```html\n",
    "<h1>你的年齡是：{{ age }}</h1>\n",
    "{% if age > 18 %}\n",
    "<h1>歡迎搭乘超級貓貓號。</h1>\n",
    "{% else %}\n",
    "<h1>年齡太小了，請明年再試看看！</h1>\n",
    "{% endif %}\n",
    "```"
   ]
  },
  {
   "cell_type": "markdown",
   "metadata": {
    "slideshow": {
     "slide_type": "subslide"
    }
   },
   "source": [
    "## Loop\n",
    "\n",
    "```python\n",
    "@app.route(\"/passenger\")\n",
    "def passenger():\n",
    "    passenger_data = {\"超級貓貓男\":\"1A\" , \"豬大哥\":\"1B\" , \"勒布朗-詹姆斯\":\"2A\"}\n",
    "    return render_template(\"passenger.html\" , data = passenger_data )\n",
    "```\n",
    "\n",
    "新增檔案 `/templates/passenger.html`\n",
    "```html\n",
    "<h1>乘客名單</h1>\n",
    "{%for passenger , seat in cart.items() %}\n",
    "<p>{{passenger}} 坐在 {{seat}} </p>\n",
    "{% endfor %}\n",
    "```"
   ]
  },
  {
   "cell_type": "markdown",
   "metadata": {
    "slideshow": {
     "slide_type": "subslide"
    }
   },
   "source": [
    "## Practice\n",
    "\n",
    "超級貓貓號想要在太陽系裡面停留一陣子，如果該地的地心引力比地球大，他就得在上面穿超級貓貓鞋。\n",
    "\n",
    "請你寫一個頁面讓他知道在哪些星球上面要穿超級貓貓鞋，地心引力的資訊可以參考：[link](https://en.wikipedia.org/wiki/List_of_gravitationally_rounded_objects_of_the_Solar_System)"
   ]
  },
  {
   "cell_type": "markdown",
   "metadata": {
    "slideshow": {
     "slide_type": "slide"
    }
   },
   "source": [
    "# Deployment"
   ]
  },
  {
   "cell_type": "markdown",
   "metadata": {
    "slideshow": {
     "slide_type": "subslide"
    }
   },
   "source": [
    "我們想要讓全世界的人都能使用我們的工具！"
   ]
  },
  {
   "cell_type": "markdown",
   "metadata": {
    "slideshow": {
     "slide_type": "subslide"
    }
   },
   "source": [
    "## pythonanywhere\n",
    "\n",
    "![](./image/15.png)\n",
    "\n",
    "https://www.pythonanywhere.com/"
   ]
  },
  {
   "cell_type": "markdown",
   "metadata": {
    "slideshow": {
     "slide_type": "subslide"
    }
   },
   "source": [
    "![](./image/15.png)"
   ]
  },
  {
   "cell_type": "markdown",
   "metadata": {
    "slideshow": {
     "slide_type": "subslide"
    }
   },
   "source": [
    "![](./image/17.png)"
   ]
  },
  {
   "cell_type": "markdown",
   "metadata": {
    "slideshow": {
     "slide_type": "subslide"
    }
   },
   "source": [
    "![](./image/18.png)"
   ]
  },
  {
   "cell_type": "markdown",
   "metadata": {
    "slideshow": {
     "slide_type": "subslide"
    }
   },
   "source": [
    "![](./image/19.png)"
   ]
  },
  {
   "cell_type": "markdown",
   "metadata": {
    "slideshow": {
     "slide_type": "subslide"
    }
   },
   "source": [
    "![](./image/20.png)"
   ]
  },
  {
   "cell_type": "markdown",
   "metadata": {
    "slideshow": {
     "slide_type": "subslide"
    }
   },
   "source": [
    "![](./image/21.png)"
   ]
  },
  {
   "cell_type": "markdown",
   "metadata": {
    "slideshow": {
     "slide_type": "subslide"
    }
   },
   "source": [
    "![](./image/22.png)"
   ]
  },
  {
   "cell_type": "markdown",
   "metadata": {
    "slideshow": {
     "slide_type": "subslide"
    }
   },
   "source": [
    "![](./image/23.png)"
   ]
  },
  {
   "cell_type": "markdown",
   "metadata": {
    "slideshow": {
     "slide_type": "subslide"
    }
   },
   "source": [
    "![](./image/24.png)"
   ]
  },
  {
   "cell_type": "markdown",
   "metadata": {
    "slideshow": {
     "slide_type": "subslide"
    }
   },
   "source": [
    "![](./image/25.png)"
   ]
  },
  {
   "cell_type": "markdown",
   "metadata": {
    "slideshow": {
     "slide_type": "slide"
    }
   },
   "source": [
    "# Remarks"
   ]
  },
  {
   "cell_type": "markdown",
   "metadata": {
    "slideshow": {
     "slide_type": "subslide"
    }
   },
   "source": [
    "## Source\n",
    "1. Computer Networking: A Top-Down Approach Copyright © 2022 Pearson Education Ltd\n",
    "2. Amazon Web Service Official Website\n",
    "3. GeeksforGeeks\n",
    "4. Statistics and data "
   ]
  },
  {
   "cell_type": "markdown",
   "metadata": {
    "slideshow": {
     "slide_type": "subslide"
    }
   },
   "source": [
    "# Additional Information\n",
    "\n",
    "1. SQL資料庫 https://flask-sqlalchemy.palletsprojects.com/en/2.x/\n",
    "\n",
    "2. Email發送 https://pythonhosted.org/Flask-Mail/\n",
    "\n",
    "3. 一堆酷東西 https://www.fullstackpython.com/flask-extensions-plug-ins-related-libraries.html\n",
    "\n",
    "4. 編教材時用的工具書 https://www.books.com.tw/products/0010793455?sloc=main"
   ]
  },
  {
   "cell_type": "markdown",
   "metadata": {
    "slideshow": {
     "slide_type": "subslide"
    }
   },
   "source": [
    "## The sky is the limit!!\n",
    "\n",
    "希望大家今天都有學到有趣的東西！"
   ]
  }
 ],
 "metadata": {
  "kernelspec": {
   "display_name": "base",
   "language": "python",
   "name": "python3"
  },
  "language_info": {
   "name": "python",
   "version": "3.10.12"
  }
 },
 "nbformat": 4,
 "nbformat_minor": 2
}
